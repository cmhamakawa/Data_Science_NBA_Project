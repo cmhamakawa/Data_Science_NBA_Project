{
 "cells": [
  {
   "cell_type": "code",
   "execution_count": 24,
   "metadata": {},
   "outputs": [],
   "source": [
    "import pandas as pd"
   ]
  },
  {
   "cell_type": "code",
   "execution_count": 25,
   "metadata": {},
   "outputs": [],
   "source": [
    "beg_year = 1970\n",
    "end_year = 2019 # end year on sheet\n",
    "# we assume the name to be 'NBA_Data_Set_1970-.xlsx'\n",
    "# we assume the name of the end file to be 'Combined_NBA_Dataset.xlsx'"
   ]
  },
  {
   "cell_type": "code",
   "execution_count": 26,
   "metadata": {},
   "outputs": [],
   "source": [
    "def merging_datasets(b_year, e_year):\n",
    "    beg_year = b_year\n",
    "    end_year = e_year + 1\n",
    "    years = list(range(beg_year,end_year))\n",
    "    s_years = [str(i) for i in years]\n",
    "    con_df = pd.read_excel(r'NBA_Data_Set_1970-.xlsx', sheet_name= s_years[0])\n",
    "    for i in range(1,len(s_years)):\n",
    "        print(s_years[i])\n",
    "        df = pd.read_excel(r'NBA_Data_Set_1970-.xlsx', sheet_name= s_years[i])\n",
    "        df.index.name = 'Index'\n",
    "        con_df = pd.concat([con_df, df])\n",
    "    con_df.to_excel('Merged_NBA_Dataset(1970-2019).xlsx')\n",
    "    return 0"
   ]
  },
  {
   "cell_type": "code",
   "execution_count": 27,
   "metadata": {},
   "outputs": [
    {
     "name": "stdout",
     "output_type": "stream",
     "text": [
      "1981\n",
      "1982\n",
      "1983\n",
      "1984\n",
      "1985\n",
      "1986\n",
      "1987\n",
      "1988\n",
      "1989\n",
      "1990\n",
      "1991\n",
      "1992\n",
      "1993\n",
      "1994\n",
      "1995\n",
      "1996\n",
      "1997\n",
      "1998\n",
      "1999\n",
      "2000\n",
      "2001\n",
      "2002\n",
      "2003\n",
      "2004\n",
      "2005\n",
      "2006\n",
      "2007\n",
      "2008\n",
      "2009\n",
      "2010\n",
      "2011\n",
      "2012\n",
      "2013\n",
      "2014\n",
      "2015\n",
      "2016\n",
      "2017\n",
      "2018\n",
      "2019\n"
     ]
    },
    {
     "data": {
      "text/plain": [
       "0"
      ]
     },
     "execution_count": 27,
     "metadata": {},
     "output_type": "execute_result"
    }
   ],
   "source": [
    "merging_datasets(beg_year, end_year)"
   ]
  },
  {
   "cell_type": "code",
   "execution_count": null,
   "metadata": {},
   "outputs": [],
   "source": []
  }
 ],
 "metadata": {
  "kernelspec": {
   "display_name": "Python 3",
   "language": "python",
   "name": "python3"
  },
  "language_info": {
   "codemirror_mode": {
    "name": "ipython",
    "version": 3
   },
   "file_extension": ".py",
   "mimetype": "text/x-python",
   "name": "python",
   "nbconvert_exporter": "python",
   "pygments_lexer": "ipython3",
   "version": "3.8.3"
  }
 },
 "nbformat": 4,
 "nbformat_minor": 4
}
