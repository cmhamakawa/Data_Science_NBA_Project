{
 "cells": [
  {
   "cell_type": "markdown",
   "metadata": {},
   "source": [
    "Author: John Paul Dillard Jr."
   ]
  },
  {
   "cell_type": "code",
   "execution_count": 92,
   "metadata": {
    "id": "Wh0Jqvs5rjST"
   },
   "outputs": [],
   "source": [
    "import numpy as np\n",
    "import pandas as pd\n",
    "from sklearn.linear_model import Ridge\n",
    "from sklearn.model_selection import train_test_split\n",
    "from sklearn.preprocessing import PolynomialFeatures\n",
    "from sklearn.pipeline import Pipeline\n",
    "from sklearn.metrics import r2_score\n",
    "from sklearn.metrics import mean_absolute_error\n",
    "from sklearn.metrics import mean_squared_error\n",
    "import matplotlib.pyplot as plt\n",
    "from sklearn.metrics import mean_squared_error"
   ]
  },
  {
   "cell_type": "code",
   "execution_count": 93,
   "metadata": {
    "id": "6SRbjAJKXkP4"
   },
   "outputs": [],
   "source": [
    "data_cleaned = pd.read_csv('Data_Science_NBA_Project/Datasets/preprocessed_nba_dataset(w_years_of_exp).csv')"
   ]
  },
  {
   "cell_type": "code",
   "execution_count": 94,
   "metadata": {
    "colab": {
     "base_uri": "https://localhost:8080/",
     "height": 179
    },
    "id": "8-XrdgoQXqRA",
    "outputId": "180db7df-a348-4974-c8b7-46428f8bb61c"
   },
   "outputs": [
    {
     "data": {
      "text/html": [
       "<div>\n",
       "<style scoped>\n",
       "    .dataframe tbody tr th:only-of-type {\n",
       "        vertical-align: middle;\n",
       "    }\n",
       "\n",
       "    .dataframe tbody tr th {\n",
       "        vertical-align: top;\n",
       "    }\n",
       "\n",
       "    .dataframe thead th {\n",
       "        text-align: right;\n",
       "    }\n",
       "</style>\n",
       "<table border=\"1\" class=\"dataframe\">\n",
       "  <thead>\n",
       "    <tr style=\"text-align: right;\">\n",
       "      <th></th>\n",
       "      <th>Unnamed: 0</th>\n",
       "      <th>SalStartYr</th>\n",
       "      <th>Salary</th>\n",
       "      <th>GS</th>\n",
       "      <th>MP</th>\n",
       "      <th>FG</th>\n",
       "      <th>FGA</th>\n",
       "      <th>FG%</th>\n",
       "      <th>3P</th>\n",
       "      <th>3PA</th>\n",
       "      <th>...</th>\n",
       "      <th>ORB</th>\n",
       "      <th>DRB</th>\n",
       "      <th>TRB</th>\n",
       "      <th>AST</th>\n",
       "      <th>STL</th>\n",
       "      <th>BLK</th>\n",
       "      <th>TOV</th>\n",
       "      <th>PF</th>\n",
       "      <th>PTS</th>\n",
       "      <th>years_of_exp</th>\n",
       "    </tr>\n",
       "  </thead>\n",
       "  <tbody>\n",
       "    <tr>\n",
       "      <th>3</th>\n",
       "      <td>7457</td>\n",
       "      <td>2001</td>\n",
       "      <td>1418400.0</td>\n",
       "      <td>24.0</td>\n",
       "      <td>21.3</td>\n",
       "      <td>3.7</td>\n",
       "      <td>8.8</td>\n",
       "      <td>0.417</td>\n",
       "      <td>0.3</td>\n",
       "      <td>0.7</td>\n",
       "      <td>...</td>\n",
       "      <td>0.6</td>\n",
       "      <td>1.6</td>\n",
       "      <td>2.2</td>\n",
       "      <td>1.0</td>\n",
       "      <td>0.7</td>\n",
       "      <td>0.1</td>\n",
       "      <td>1.2</td>\n",
       "      <td>2.1</td>\n",
       "      <td>9.5</td>\n",
       "      <td>1</td>\n",
       "    </tr>\n",
       "    <tr>\n",
       "      <th>43</th>\n",
       "      <td>7514</td>\n",
       "      <td>2001</td>\n",
       "      <td>465850.0</td>\n",
       "      <td>0.0</td>\n",
       "      <td>8.4</td>\n",
       "      <td>0.7</td>\n",
       "      <td>2.1</td>\n",
       "      <td>0.323</td>\n",
       "      <td>0.0</td>\n",
       "      <td>0.3</td>\n",
       "      <td>...</td>\n",
       "      <td>0.5</td>\n",
       "      <td>1.0</td>\n",
       "      <td>1.5</td>\n",
       "      <td>0.2</td>\n",
       "      <td>0.5</td>\n",
       "      <td>0.1</td>\n",
       "      <td>0.6</td>\n",
       "      <td>1.8</td>\n",
       "      <td>2.1</td>\n",
       "      <td>1</td>\n",
       "    </tr>\n",
       "    <tr>\n",
       "      <th>50</th>\n",
       "      <td>7526</td>\n",
       "      <td>2001</td>\n",
       "      <td>1347480.0</td>\n",
       "      <td>8.0</td>\n",
       "      <td>16.3</td>\n",
       "      <td>2.1</td>\n",
       "      <td>5.1</td>\n",
       "      <td>0.400</td>\n",
       "      <td>0.1</td>\n",
       "      <td>0.2</td>\n",
       "      <td>...</td>\n",
       "      <td>0.3</td>\n",
       "      <td>1.4</td>\n",
       "      <td>1.7</td>\n",
       "      <td>2.7</td>\n",
       "      <td>0.6</td>\n",
       "      <td>0.0</td>\n",
       "      <td>1.8</td>\n",
       "      <td>2.0</td>\n",
       "      <td>5.4</td>\n",
       "      <td>1</td>\n",
       "    </tr>\n",
       "  </tbody>\n",
       "</table>\n",
       "<p>3 rows × 28 columns</p>\n",
       "</div>"
      ],
      "text/plain": [
       "    Unnamed: 0  SalStartYr     Salary    GS    MP   FG  FGA    FG%   3P  3PA  \\\n",
       "3         7457        2001  1418400.0  24.0  21.3  3.7  8.8  0.417  0.3  0.7   \n",
       "43        7514        2001   465850.0   0.0   8.4  0.7  2.1  0.323  0.0  0.3   \n",
       "50        7526        2001  1347480.0   8.0  16.3  2.1  5.1  0.400  0.1  0.2   \n",
       "\n",
       "    ...  ORB  DRB  TRB  AST  STL  BLK  TOV   PF  PTS  years_of_exp  \n",
       "3   ...  0.6  1.6  2.2  1.0  0.7  0.1  1.2  2.1  9.5             1  \n",
       "43  ...  0.5  1.0  1.5  0.2  0.5  0.1  0.6  1.8  2.1             1  \n",
       "50  ...  0.3  1.4  1.7  2.7  0.6  0.0  1.8  2.0  5.4             1  \n",
       "\n",
       "[3 rows x 28 columns]"
      ]
     },
     "execution_count": 94,
     "metadata": {},
     "output_type": "execute_result"
    }
   ],
   "source": [
    "#predicting salary (not percent of salary cap) on rookies\n",
    "data = data_cleaned.drop(['Per_of_Salary_Cap', 'salary_cap'], axis=1)\n",
    "\n",
    "#rookies\n",
    "data = data[data['years_of_exp']==1]\n",
    "data[:3]"
   ]
  },
  {
   "cell_type": "code",
   "execution_count": 95,
   "metadata": {
    "id": "8xRSi7apekB1"
   },
   "outputs": [],
   "source": [
    "train_dataset, test_dataset= train_test_split(data, test_size=0.2, random_state=1)\n",
    "train_dataset, val_dataset = train_test_split(train_dataset, test_size=0.2, random_state=1)"
   ]
  },
  {
   "cell_type": "code",
   "execution_count": 96,
   "metadata": {
    "id": "gZSxMjYthQKv"
   },
   "outputs": [],
   "source": [
    "train_features = train_dataset.copy()\n",
    "test_features = test_dataset.copy()\n",
    "val_features = val_dataset.copy()\n",
    "\n",
    "train_labels = train_features.pop('Salary')\n",
    "test_labels = test_features.pop('Salary')\n",
    "val_labels = val_features.pop('Salary')"
   ]
  },
  {
   "cell_type": "code",
   "execution_count": 104,
   "metadata": {
    "colab": {
     "base_uri": "https://localhost:8080/"
    },
    "id": "pATHGiqJuq5I",
    "outputId": "3b05ce3b-318b-41e3-dd7f-b5e559b67969"
   },
   "outputs": [
    {
     "data": {
      "text/plain": [
       "Pipeline(steps=[('poly', PolynomialFeatures(degree=1)),\n",
       "                ('ridge', Ridge(alpha=10))])"
      ]
     },
     "execution_count": 104,
     "metadata": {},
     "output_type": "execute_result"
    }
   ],
   "source": [
    "n = 1\n",
    "alpha = 10\n",
    "\n",
    "ridge_model = Pipeline([('poly', PolynomialFeatures(n)), ('ridge', Ridge(alpha=alpha))])\n",
    "ridge_model.fit(train_features, train_labels)"
   ]
  },
  {
   "cell_type": "code",
   "execution_count": 105,
   "metadata": {
    "id": "Mqw_7PwivHh4"
   },
   "outputs": [],
   "source": [
    "val_pred = ridge_model.predict(val_features)"
   ]
  },
  {
   "cell_type": "code",
   "execution_count": 106,
   "metadata": {
    "colab": {
     "base_uri": "https://localhost:8080/"
    },
    "id": "dZ0Ws6W5a2TL",
    "outputId": "cd01c915-b792-46d4-f588-d00c643cd70f"
   },
   "outputs": [
    {
     "name": "stdout",
     "output_type": "stream",
     "text": [
      "n=1 | RMSE = 1195421.514056877 \n",
      "\n"
     ]
    }
   ],
   "source": [
    "print(f\"n={n} | RMSE = {mean_squared_error(val_labels, val_pred, squared=False)} \\n\")"
   ]
  },
  {
   "cell_type": "code",
   "execution_count": 107,
   "metadata": {
    "colab": {
     "base_uri": "https://localhost:8080/"
    },
    "id": "lhw0e_HGvzJQ",
    "outputId": "e16840a1-d3a6-4b0f-dd4e-4e0c5afc8222"
   },
   "outputs": [
    {
     "data": {
      "text/plain": [
       "0.26638228229261685"
      ]
     },
     "execution_count": 107,
     "metadata": {},
     "output_type": "execute_result"
    }
   ],
   "source": [
    "r2_score(val_labels, val_pred)"
   ]
  },
  {
   "cell_type": "code",
   "execution_count": 108,
   "metadata": {
    "colab": {
     "base_uri": "https://localhost:8080/"
    },
    "id": "ExN0Lqdpv52e",
    "outputId": "ceb7ce85-eb74-484d-8ba1-7339c45e9ffb"
   },
   "outputs": [
    {
     "name": "stdout",
     "output_type": "stream",
     "text": [
      "MAE:  838922.4264902511\n"
     ]
    }
   ],
   "source": [
    "print(\"MAE: \", mean_absolute_error(val_pred, val_labels))"
   ]
  },
  {
   "cell_type": "code",
   "execution_count": 109,
   "metadata": {
    "colab": {
     "base_uri": "https://localhost:8080/",
     "height": 295
    },
    "id": "308FQzJBwi4m",
    "outputId": "87b08714-4d42-4fab-f65a-764421a8feb0"
   },
   "outputs": [
    {
     "data": {
      "image/png": "[encoded data removed]",
      "text/plain": [
       "<Figure size 432x288 with 1 Axes>"
      ]
     },
     "metadata": {
      "needs_background": "light"
     },
     "output_type": "display_data"
    }
   ],
   "source": [
    "a = plt.axes(aspect='equal')\n",
    "plt.scatter(val_labels, val_pred, s=8)\n",
    "plt.xlabel('True Values')\n",
    "plt.ylabel('Predictions')\n",
    "lims = [0, max(np.max(val_labels), np.max(val_pred))]\n",
    "plt.xlim(lims)\n",
    "plt.ylim(lims)\n",
    "plt.title('Validation Predictions')\n",
    "_ = plt.plot(lims, lims, 'r')"
   ]
  },
  {
   "cell_type": "code",
   "execution_count": 110,
   "metadata": {},
   "outputs": [
    {
     "name": "stdout",
     "output_type": "stream",
     "text": [
      "Degree 1 model test score: 0.41437274477129193\n",
      "Degree 1 model test RMSE: 1063977.9288837356\n"
     ]
    }
   ],
   "source": [
    "#evaluate model on test data\n",
    "y_test_predict = ridge_model.predict(test_features)\n",
    "rmse_test = mean_squared_error(test_labels, y_test_predict, squared=False)\n",
    "    \n",
    "print(f\"Degree {n} model test score: {ridge_model.score(test_features, test_labels)}\")\n",
    "print(f\"Degree {n} model test RMSE: {rmse_test}\")"
   ]
  },
  {
   "cell_type": "markdown",
   "metadata": {},
   "source": [
    "very high RMSE, not learning (negative R^2)"
   ]
  }
 ],
 "metadata": {
  "colab": {
   "collapsed_sections": [],
   "name": "ridge_nba_sal.ipynb",
   "provenance": []
  },
  "kernelspec": {
   "display_name": "Python 3",
   "language": "python",
   "name": "python3"
  },
  "language_info": {
   "codemirror_mode": {
    "name": "ipython",
    "version": 3
   },
   "file_extension": ".py",
   "mimetype": "text/x-python",
   "name": "python",
   "nbconvert_exporter": "python",
   "pygments_lexer": "ipython3",
   "version": "3.7.6"
  }
 },
 "nbformat": 4,
 "nbformat_minor": 4
}
