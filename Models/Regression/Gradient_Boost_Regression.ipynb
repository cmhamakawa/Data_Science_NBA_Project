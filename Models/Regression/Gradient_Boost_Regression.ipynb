{
 "cells": [
  {
   "cell_type": "code",
   "execution_count": 3,
   "metadata": {},
   "outputs": [
    {
     "data": {
      "text/html": [
       "<div>\n",
       "<style scoped>\n",
       "    .dataframe tbody tr th:only-of-type {\n",
       "        vertical-align: middle;\n",
       "    }\n",
       "\n",
       "    .dataframe tbody tr th {\n",
       "        vertical-align: top;\n",
       "    }\n",
       "\n",
       "    .dataframe thead th {\n",
       "        text-align: right;\n",
       "    }\n",
       "</style>\n",
       "<table border=\"1\" class=\"dataframe\">\n",
       "  <thead>\n",
       "    <tr style=\"text-align: right;\">\n",
       "      <th></th>\n",
       "      <th>Unnamed: 0</th>\n",
       "      <th>SalStartYr</th>\n",
       "      <th>Salary</th>\n",
       "      <th>GS</th>\n",
       "      <th>MP</th>\n",
       "      <th>FG</th>\n",
       "      <th>FGA</th>\n",
       "      <th>FG%</th>\n",
       "      <th>3P</th>\n",
       "      <th>3PA</th>\n",
       "      <th>...</th>\n",
       "      <th>TRB</th>\n",
       "      <th>AST</th>\n",
       "      <th>STL</th>\n",
       "      <th>BLK</th>\n",
       "      <th>TOV</th>\n",
       "      <th>PF</th>\n",
       "      <th>PTS</th>\n",
       "      <th>years_of_exp</th>\n",
       "      <th>salary_cap</th>\n",
       "      <th>Per_of_Salary_Cap</th>\n",
       "    </tr>\n",
       "  </thead>\n",
       "  <tbody>\n",
       "    <tr>\n",
       "      <th>0</th>\n",
       "      <td>7454</td>\n",
       "      <td>2001</td>\n",
       "      <td>5062500.0</td>\n",
       "      <td>12.0</td>\n",
       "      <td>14.5</td>\n",
       "      <td>1.5</td>\n",
       "      <td>3.8</td>\n",
       "      <td>0.387</td>\n",
       "      <td>0.1</td>\n",
       "      <td>0.3</td>\n",
       "      <td>...</td>\n",
       "      <td>2.0</td>\n",
       "      <td>0.8</td>\n",
       "      <td>0.5</td>\n",
       "      <td>0.4</td>\n",
       "      <td>1.2</td>\n",
       "      <td>1.9</td>\n",
       "      <td>3.8</td>\n",
       "      <td>4</td>\n",
       "      <td>42500000</td>\n",
       "      <td>0.119118</td>\n",
       "    </tr>\n",
       "    <tr>\n",
       "      <th>1</th>\n",
       "      <td>7455</td>\n",
       "      <td>2001</td>\n",
       "      <td>11250000.0</td>\n",
       "      <td>81.0</td>\n",
       "      <td>40.0</td>\n",
       "      <td>7.5</td>\n",
       "      <td>15.8</td>\n",
       "      <td>0.472</td>\n",
       "      <td>0.1</td>\n",
       "      <td>0.8</td>\n",
       "      <td>...</td>\n",
       "      <td>9.1</td>\n",
       "      <td>3.1</td>\n",
       "      <td>1.1</td>\n",
       "      <td>1.0</td>\n",
       "      <td>2.9</td>\n",
       "      <td>2.9</td>\n",
       "      <td>20.5</td>\n",
       "      <td>5</td>\n",
       "      <td>42500000</td>\n",
       "      <td>0.264706</td>\n",
       "    </tr>\n",
       "    <tr>\n",
       "      <th>2</th>\n",
       "      <td>7456</td>\n",
       "      <td>2001</td>\n",
       "      <td>1995741.0</td>\n",
       "      <td>0.0</td>\n",
       "      <td>8.7</td>\n",
       "      <td>0.7</td>\n",
       "      <td>2.2</td>\n",
       "      <td>0.321</td>\n",
       "      <td>0.2</td>\n",
       "      <td>0.6</td>\n",
       "      <td>...</td>\n",
       "      <td>1.0</td>\n",
       "      <td>1.4</td>\n",
       "      <td>0.6</td>\n",
       "      <td>0.0</td>\n",
       "      <td>1.0</td>\n",
       "      <td>1.1</td>\n",
       "      <td>2.0</td>\n",
       "      <td>6</td>\n",
       "      <td>42500000</td>\n",
       "      <td>0.046959</td>\n",
       "    </tr>\n",
       "    <tr>\n",
       "      <th>3</th>\n",
       "      <td>7457</td>\n",
       "      <td>2001</td>\n",
       "      <td>1418400.0</td>\n",
       "      <td>24.0</td>\n",
       "      <td>21.3</td>\n",
       "      <td>3.7</td>\n",
       "      <td>8.8</td>\n",
       "      <td>0.417</td>\n",
       "      <td>0.3</td>\n",
       "      <td>0.7</td>\n",
       "      <td>...</td>\n",
       "      <td>2.2</td>\n",
       "      <td>1.0</td>\n",
       "      <td>0.7</td>\n",
       "      <td>0.1</td>\n",
       "      <td>1.2</td>\n",
       "      <td>2.1</td>\n",
       "      <td>9.5</td>\n",
       "      <td>1</td>\n",
       "      <td>42500000</td>\n",
       "      <td>0.033374</td>\n",
       "    </tr>\n",
       "    <tr>\n",
       "      <th>4</th>\n",
       "      <td>7458</td>\n",
       "      <td>2001</td>\n",
       "      <td>11250000.0</td>\n",
       "      <td>82.0</td>\n",
       "      <td>38.2</td>\n",
       "      <td>7.7</td>\n",
       "      <td>16.0</td>\n",
       "      <td>0.480</td>\n",
       "      <td>2.5</td>\n",
       "      <td>5.7</td>\n",
       "      <td>...</td>\n",
       "      <td>5.2</td>\n",
       "      <td>4.6</td>\n",
       "      <td>1.5</td>\n",
       "      <td>0.2</td>\n",
       "      <td>2.5</td>\n",
       "      <td>2.3</td>\n",
       "      <td>22.0</td>\n",
       "      <td>5</td>\n",
       "      <td>42500000</td>\n",
       "      <td>0.264706</td>\n",
       "    </tr>\n",
       "  </tbody>\n",
       "</table>\n",
       "<p>5 rows × 30 columns</p>\n",
       "</div>"
      ],
      "text/plain": [
       "   Unnamed: 0  SalStartYr      Salary    GS    MP   FG   FGA    FG%   3P  3PA  \\\n",
       "0        7454        2001   5062500.0  12.0  14.5  1.5   3.8  0.387  0.1  0.3   \n",
       "1        7455        2001  11250000.0  81.0  40.0  7.5  15.8  0.472  0.1  0.8   \n",
       "2        7456        2001   1995741.0   0.0   8.7  0.7   2.2  0.321  0.2  0.6   \n",
       "3        7457        2001   1418400.0  24.0  21.3  3.7   8.8  0.417  0.3  0.7   \n",
       "4        7458        2001  11250000.0  82.0  38.2  7.7  16.0  0.480  2.5  5.7   \n",
       "\n",
       "   ...  TRB  AST  STL  BLK  TOV   PF   PTS  years_of_exp  salary_cap  \\\n",
       "0  ...  2.0  0.8  0.5  0.4  1.2  1.9   3.8             4    42500000   \n",
       "1  ...  9.1  3.1  1.1  1.0  2.9  2.9  20.5             5    42500000   \n",
       "2  ...  1.0  1.4  0.6  0.0  1.0  1.1   2.0             6    42500000   \n",
       "3  ...  2.2  1.0  0.7  0.1  1.2  2.1   9.5             1    42500000   \n",
       "4  ...  5.2  4.6  1.5  0.2  2.5  2.3  22.0             5    42500000   \n",
       "\n",
       "   Per_of_Salary_Cap  \n",
       "0           0.119118  \n",
       "1           0.264706  \n",
       "2           0.046959  \n",
       "3           0.033374  \n",
       "4           0.264706  \n",
       "\n",
       "[5 rows x 30 columns]"
      ]
     },
     "execution_count": 3,
     "metadata": {},
     "output_type": "execute_result"
    }
   ],
   "source": [
    "import numpy as np\n",
    "import matplotlib.pyplot as plt\n",
    "import pandas as pd\n",
    "import seaborn as sns\n",
    "import sklearn as sk\n",
    "from sklearn.preprocessing import LabelEncoder, OneHotEncoder\n",
    "from sklearn.compose import ColumnTransformer\n",
    "from sklearn.model_selection import train_test_split\n",
    "from sklearn.ensemble import GradientBoostingRegressor\n",
    "from sklearn.metrics import r2_score\n",
    "df = pd.read_csv(\"https://raw.githubusercontent.com/cmhamakawa/Data_Science_NBA_Project/master/Datasets/preprocessed_nba_dataset(w_years_of_exp).csv\")\n",
    "df.head()\n",
    "# Importing Libraries and Dataset"
   ]
  },
  {
   "cell_type": "code",
   "execution_count": 4,
   "metadata": {},
   "outputs": [],
   "source": [
    "x = df[['years_of_exp', 'MP', 'GS', 'PTS', 'FG', 'AST', 'STL', 'BLK', 'FTA']].values\n",
    "y = df.iloc[:,29].values\n",
    "# Setting Predictors/Target Variables"
   ]
  },
  {
   "cell_type": "code",
   "execution_count": 5,
   "metadata": {},
   "outputs": [],
   "source": [
    "labelencoder = LabelEncoder()\n",
    "x[:,0] = labelencoder.fit_transform(x[:,0])\n",
    "x[:,1] = labelencoder.fit_transform(x[:,1])\n",
    "\n",
    "ct = ColumnTransformer(\n",
    "    [('one_hot_encoder', OneHotEncoder(categories='auto'), [0, 1])],\n",
    "    remainder='passthrough'                                         \n",
    ")\n",
    "x = ct.fit_transform(x)\n",
    "# Encoding Variables"
   ]
  },
  {
   "cell_type": "code",
   "execution_count": 6,
   "metadata": {},
   "outputs": [
    {
     "name": "stdout",
     "output_type": "stream",
     "text": [
      "(6222, 422)\n",
      "(6222,)\n"
     ]
    }
   ],
   "source": [
    "print(x.shape)\n",
    "print(y.shape)"
   ]
  },
  {
   "cell_type": "code",
   "execution_count": 7,
   "metadata": {},
   "outputs": [],
   "source": [
    "x_train, x_test, y_train, y_test = train_test_split(x, y, random_state = 0, test_size = 0.2)\n",
    "param = {'n_estimators': 500,\n",
    "          'max_depth': 4,\n",
    "          'min_samples_split': 5,\n",
    "          'learning_rate': 0.01,\n",
    "          'loss': 'ls'}\n",
    "# Splitting into Training/Test "
   ]
  },
  {
   "cell_type": "code",
   "execution_count": 9,
   "metadata": {},
   "outputs": [
    {
     "data": {
      "text/plain": [
       "GradientBoostingRegressor(learning_rate=0.01, max_depth=4, min_samples_split=5,\n",
       "                          n_estimators=500)"
      ]
     },
     "execution_count": 9,
     "metadata": {},
     "output_type": "execute_result"
    }
   ],
   "source": [
    "regressor = GradientBoostingRegressor(**param)\n",
    "regressor.fit(x_train, y_train)\n",
    "# Performing Gradient Boost Regression"
   ]
  },
  {
   "cell_type": "code",
   "execution_count": 10,
   "metadata": {},
   "outputs": [
    {
     "data": {
      "text/plain": [
       "0.6750305728089472"
      ]
     },
     "execution_count": 10,
     "metadata": {},
     "output_type": "execute_result"
    }
   ],
   "source": [
    "y_predict = regressor.predict(x_test)\n",
    "r2_score(y_test, y_predict)\n",
    "# Finding R2 Score"
   ]
  },
  {
   "cell_type": "code",
   "execution_count": null,
   "metadata": {},
   "outputs": [],
   "source": []
  }
 ],
 "metadata": {
  "kernelspec": {
   "display_name": "Python 3",
   "language": "python",
   "name": "python3"
  },
  "language_info": {
   "codemirror_mode": {
    "name": "ipython",
    "version": 3
   },
   "file_extension": ".py",
   "mimetype": "text/x-python",
   "name": "python",
   "nbconvert_exporter": "python",
   "pygments_lexer": "ipython3",
   "version": "3.8.3"
  }
 },
 "nbformat": 4,
 "nbformat_minor": 4
}
