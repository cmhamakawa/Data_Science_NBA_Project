{
 "cells": [
  {
   "cell_type": "markdown",
   "metadata": {},
   "source": [
    "Author: John Paul Dillard Jr."
   ]
  },
  {
   "cell_type": "code",
   "execution_count": 1,
   "metadata": {
    "collapsed": false,
    "jupyter": {
     "outputs_hidden": false
    }
   },
   "outputs": [],
   "source": [
    "import numpy as np\n",
    "import pandas as pd\n",
    "from sklearn.preprocessing import OneHotEncoder\n",
    "from sklearn.model_selection import train_test_split\n",
    "from sklearn.svm import SVR\n",
    "from sklearn.metrics import mean_squared_error\n",
    "from sklearn.metrics import mean_absolute_error\n",
    "import pickle"
   ]
  },
  {
   "cell_type": "code",
   "execution_count": 2,
   "metadata": {},
   "outputs": [
    {
     "data": {
      "text/html": [
       "<div>\n",
       "<style scoped>\n",
       "    .dataframe tbody tr th:only-of-type {\n",
       "        vertical-align: middle;\n",
       "    }\n",
       "\n",
       "    .dataframe tbody tr th {\n",
       "        vertical-align: top;\n",
       "    }\n",
       "\n",
       "    .dataframe thead th {\n",
       "        text-align: right;\n",
       "    }\n",
       "</style>\n",
       "<table border=\"1\" class=\"dataframe\">\n",
       "  <thead>\n",
       "    <tr style=\"text-align: right;\">\n",
       "      <th></th>\n",
       "      <th>Unnamed: 0</th>\n",
       "      <th>SalStartYr</th>\n",
       "      <th>Salary</th>\n",
       "      <th>GS</th>\n",
       "      <th>MP</th>\n",
       "      <th>FG</th>\n",
       "      <th>FGA</th>\n",
       "      <th>FG%</th>\n",
       "      <th>3P</th>\n",
       "      <th>3PA</th>\n",
       "      <th>...</th>\n",
       "      <th>TRB</th>\n",
       "      <th>AST</th>\n",
       "      <th>STL</th>\n",
       "      <th>BLK</th>\n",
       "      <th>TOV</th>\n",
       "      <th>PF</th>\n",
       "      <th>PTS</th>\n",
       "      <th>years_of_exp</th>\n",
       "      <th>salary_cap</th>\n",
       "      <th>Per_of_Salary_Cap</th>\n",
       "    </tr>\n",
       "  </thead>\n",
       "  <tbody>\n",
       "    <tr>\n",
       "      <th>0</th>\n",
       "      <td>7454</td>\n",
       "      <td>2001</td>\n",
       "      <td>5062500.0</td>\n",
       "      <td>12.0</td>\n",
       "      <td>14.5</td>\n",
       "      <td>1.5</td>\n",
       "      <td>3.8</td>\n",
       "      <td>0.387</td>\n",
       "      <td>0.1</td>\n",
       "      <td>0.3</td>\n",
       "      <td>...</td>\n",
       "      <td>2.0</td>\n",
       "      <td>0.8</td>\n",
       "      <td>0.5</td>\n",
       "      <td>0.4</td>\n",
       "      <td>1.2</td>\n",
       "      <td>1.9</td>\n",
       "      <td>3.8</td>\n",
       "      <td>4</td>\n",
       "      <td>42500000</td>\n",
       "      <td>0.119118</td>\n",
       "    </tr>\n",
       "    <tr>\n",
       "      <th>1</th>\n",
       "      <td>7455</td>\n",
       "      <td>2001</td>\n",
       "      <td>11250000.0</td>\n",
       "      <td>81.0</td>\n",
       "      <td>40.0</td>\n",
       "      <td>7.5</td>\n",
       "      <td>15.8</td>\n",
       "      <td>0.472</td>\n",
       "      <td>0.1</td>\n",
       "      <td>0.8</td>\n",
       "      <td>...</td>\n",
       "      <td>9.1</td>\n",
       "      <td>3.1</td>\n",
       "      <td>1.1</td>\n",
       "      <td>1.0</td>\n",
       "      <td>2.9</td>\n",
       "      <td>2.9</td>\n",
       "      <td>20.5</td>\n",
       "      <td>5</td>\n",
       "      <td>42500000</td>\n",
       "      <td>0.264706</td>\n",
       "    </tr>\n",
       "    <tr>\n",
       "      <th>2</th>\n",
       "      <td>7456</td>\n",
       "      <td>2001</td>\n",
       "      <td>1995741.0</td>\n",
       "      <td>0.0</td>\n",
       "      <td>8.7</td>\n",
       "      <td>0.7</td>\n",
       "      <td>2.2</td>\n",
       "      <td>0.321</td>\n",
       "      <td>0.2</td>\n",
       "      <td>0.6</td>\n",
       "      <td>...</td>\n",
       "      <td>1.0</td>\n",
       "      <td>1.4</td>\n",
       "      <td>0.6</td>\n",
       "      <td>0.0</td>\n",
       "      <td>1.0</td>\n",
       "      <td>1.1</td>\n",
       "      <td>2.0</td>\n",
       "      <td>6</td>\n",
       "      <td>42500000</td>\n",
       "      <td>0.046959</td>\n",
       "    </tr>\n",
       "  </tbody>\n",
       "</table>\n",
       "<p>3 rows × 30 columns</p>\n",
       "</div>"
      ],
      "text/plain": [
       "   Unnamed: 0  SalStartYr      Salary    GS    MP   FG   FGA    FG%   3P  3PA  \\\n",
       "0        7454        2001   5062500.0  12.0  14.5  1.5   3.8  0.387  0.1  0.3   \n",
       "1        7455        2001  11250000.0  81.0  40.0  7.5  15.8  0.472  0.1  0.8   \n",
       "2        7456        2001   1995741.0   0.0   8.7  0.7   2.2  0.321  0.2  0.6   \n",
       "\n",
       "   ...  TRB  AST  STL  BLK  TOV   PF   PTS  years_of_exp  salary_cap  \\\n",
       "0  ...  2.0  0.8  0.5  0.4  1.2  1.9   3.8             4    42500000   \n",
       "1  ...  9.1  3.1  1.1  1.0  2.9  2.9  20.5             5    42500000   \n",
       "2  ...  1.0  1.4  0.6  0.0  1.0  1.1   2.0             6    42500000   \n",
       "\n",
       "   Per_of_Salary_Cap  \n",
       "0           0.119118  \n",
       "1           0.264706  \n",
       "2           0.046959  \n",
       "\n",
       "[3 rows x 30 columns]"
      ]
     },
     "execution_count": 2,
     "metadata": {},
     "output_type": "execute_result"
    }
   ],
   "source": [
    "data_cleaned = pd.read_csv('Data_Science_NBA_Project/Datasets/preprocessed_nba_dataset(w_years_of_exp).csv')\n",
    "data_cleaned[:3]"
   ]
  },
  {
   "cell_type": "code",
   "execution_count": 6,
   "metadata": {
    "collapsed": false,
    "jupyter": {
     "outputs_hidden": false
    }
   },
   "outputs": [
    {
     "data": {
      "text/html": [
       "<div>\n",
       "<style scoped>\n",
       "    .dataframe tbody tr th:only-of-type {\n",
       "        vertical-align: middle;\n",
       "    }\n",
       "\n",
       "    .dataframe tbody tr th {\n",
       "        vertical-align: top;\n",
       "    }\n",
       "\n",
       "    .dataframe thead th {\n",
       "        text-align: right;\n",
       "    }\n",
       "</style>\n",
       "<table border=\"1\" class=\"dataframe\">\n",
       "  <thead>\n",
       "    <tr style=\"text-align: right;\">\n",
       "      <th></th>\n",
       "      <th>3P%</th>\n",
       "      <th>TRB</th>\n",
       "      <th>TOV</th>\n",
       "      <th>BLK</th>\n",
       "      <th>3P</th>\n",
       "      <th>STL</th>\n",
       "      <th>PTS</th>\n",
       "      <th>FT</th>\n",
       "      <th>Per_of_Salary_Cap</th>\n",
       "      <th>years_of_exp</th>\n",
       "      <th>...</th>\n",
       "      <th>DRB</th>\n",
       "      <th>ORB</th>\n",
       "      <th>GS</th>\n",
       "      <th>2P</th>\n",
       "      <th>2P%</th>\n",
       "      <th>PF</th>\n",
       "      <th>3PA</th>\n",
       "      <th>FG</th>\n",
       "      <th>FT%</th>\n",
       "      <th>MP</th>\n",
       "    </tr>\n",
       "  </thead>\n",
       "  <tbody>\n",
       "    <tr>\n",
       "      <th>0</th>\n",
       "      <td>0.400</td>\n",
       "      <td>2.0</td>\n",
       "      <td>1.2</td>\n",
       "      <td>0.4</td>\n",
       "      <td>0.1</td>\n",
       "      <td>0.5</td>\n",
       "      <td>3.8</td>\n",
       "      <td>0.7</td>\n",
       "      <td>0.119118</td>\n",
       "      <td>4</td>\n",
       "      <td>...</td>\n",
       "      <td>1.6</td>\n",
       "      <td>0.5</td>\n",
       "      <td>12.0</td>\n",
       "      <td>1.3</td>\n",
       "      <td>0.386</td>\n",
       "      <td>1.9</td>\n",
       "      <td>0.3</td>\n",
       "      <td>1.5</td>\n",
       "      <td>0.583</td>\n",
       "      <td>14.5</td>\n",
       "    </tr>\n",
       "    <tr>\n",
       "      <th>1</th>\n",
       "      <td>0.188</td>\n",
       "      <td>9.1</td>\n",
       "      <td>2.9</td>\n",
       "      <td>1.0</td>\n",
       "      <td>0.1</td>\n",
       "      <td>1.1</td>\n",
       "      <td>20.5</td>\n",
       "      <td>5.5</td>\n",
       "      <td>0.264706</td>\n",
       "      <td>5</td>\n",
       "      <td>...</td>\n",
       "      <td>6.9</td>\n",
       "      <td>2.2</td>\n",
       "      <td>81.0</td>\n",
       "      <td>7.3</td>\n",
       "      <td>0.487</td>\n",
       "      <td>2.9</td>\n",
       "      <td>0.8</td>\n",
       "      <td>7.5</td>\n",
       "      <td>0.834</td>\n",
       "      <td>40.0</td>\n",
       "    </tr>\n",
       "    <tr>\n",
       "      <th>2</th>\n",
       "      <td>0.250</td>\n",
       "      <td>1.0</td>\n",
       "      <td>1.0</td>\n",
       "      <td>0.0</td>\n",
       "      <td>0.2</td>\n",
       "      <td>0.6</td>\n",
       "      <td>2.0</td>\n",
       "      <td>0.5</td>\n",
       "      <td>0.046959</td>\n",
       "      <td>6</td>\n",
       "      <td>...</td>\n",
       "      <td>1.0</td>\n",
       "      <td>0.0</td>\n",
       "      <td>0.0</td>\n",
       "      <td>0.5</td>\n",
       "      <td>0.350</td>\n",
       "      <td>1.1</td>\n",
       "      <td>0.6</td>\n",
       "      <td>0.7</td>\n",
       "      <td>0.667</td>\n",
       "      <td>8.7</td>\n",
       "    </tr>\n",
       "  </tbody>\n",
       "</table>\n",
       "<p>3 rows × 27 columns</p>\n",
       "</div>"
      ],
      "text/plain": [
       "     3P%  TRB  TOV  BLK   3P  STL   PTS   FT  Per_of_Salary_Cap  years_of_exp  \\\n",
       "0  0.400  2.0  1.2  0.4  0.1  0.5   3.8  0.7           0.119118             4   \n",
       "1  0.188  9.1  2.9  1.0  0.1  1.1  20.5  5.5           0.264706             5   \n",
       "2  0.250  1.0  1.0  0.0  0.2  0.6   2.0  0.5           0.046959             6   \n",
       "\n",
       "   ...  DRB  ORB    GS   2P    2P%   PF  3PA   FG    FT%    MP  \n",
       "0  ...  1.6  0.5  12.0  1.3  0.386  1.9  0.3  1.5  0.583  14.5  \n",
       "1  ...  6.9  2.2  81.0  7.3  0.487  2.9  0.8  7.5  0.834  40.0  \n",
       "2  ...  1.0  0.0   0.0  0.5  0.350  1.1  0.6  0.7  0.667   8.7  \n",
       "\n",
       "[3 rows x 27 columns]"
      ]
     },
     "execution_count": 6,
     "metadata": {},
     "output_type": "execute_result"
    }
   ],
   "source": [
    "cols = set(data_cleaned.columns)\n",
    "cols.remove('salary_cap')\n",
    "cols.remove('SalStartYr')\n",
    "cols.remove('Salary')\n",
    "\n",
    "data_cleaned = data_cleaned[cols]\n",
    "data_cleaned[:3]"
   ]
  },
  {
   "cell_type": "code",
   "execution_count": 8,
   "metadata": {
    "collapsed": false,
    "jupyter": {
     "outputs_hidden": false
    }
   },
   "outputs": [
    {
     "data": {
      "text/html": [
       "<div>\n",
       "<style scoped>\n",
       "    .dataframe tbody tr th:only-of-type {\n",
       "        vertical-align: middle;\n",
       "    }\n",
       "\n",
       "    .dataframe tbody tr th {\n",
       "        vertical-align: top;\n",
       "    }\n",
       "\n",
       "    .dataframe thead th {\n",
       "        text-align: right;\n",
       "    }\n",
       "</style>\n",
       "<table border=\"1\" class=\"dataframe\">\n",
       "  <thead>\n",
       "    <tr style=\"text-align: right;\">\n",
       "      <th></th>\n",
       "      <th>Unnamed: 0</th>\n",
       "      <th>SalStartYr</th>\n",
       "      <th>Salary</th>\n",
       "      <th>GS</th>\n",
       "      <th>MP</th>\n",
       "      <th>FG</th>\n",
       "      <th>FGA</th>\n",
       "      <th>FG%</th>\n",
       "      <th>3P</th>\n",
       "      <th>3PA</th>\n",
       "      <th>...</th>\n",
       "      <th>TRB</th>\n",
       "      <th>AST</th>\n",
       "      <th>STL</th>\n",
       "      <th>BLK</th>\n",
       "      <th>TOV</th>\n",
       "      <th>PF</th>\n",
       "      <th>PTS</th>\n",
       "      <th>years_of_exp</th>\n",
       "      <th>salary_cap</th>\n",
       "      <th>Per_of_Salary_Cap</th>\n",
       "    </tr>\n",
       "  </thead>\n",
       "  <tbody>\n",
       "    <tr>\n",
       "      <th>0</th>\n",
       "      <td>7454</td>\n",
       "      <td>2001</td>\n",
       "      <td>5062500.0</td>\n",
       "      <td>12.0</td>\n",
       "      <td>14.5</td>\n",
       "      <td>1.5</td>\n",
       "      <td>3.8</td>\n",
       "      <td>0.387</td>\n",
       "      <td>0.1</td>\n",
       "      <td>0.3</td>\n",
       "      <td>...</td>\n",
       "      <td>2.0</td>\n",
       "      <td>0.8</td>\n",
       "      <td>0.5</td>\n",
       "      <td>0.4</td>\n",
       "      <td>1.2</td>\n",
       "      <td>1.9</td>\n",
       "      <td>3.8</td>\n",
       "      <td>4</td>\n",
       "      <td>42500000</td>\n",
       "      <td>0.119118</td>\n",
       "    </tr>\n",
       "    <tr>\n",
       "      <th>1</th>\n",
       "      <td>7455</td>\n",
       "      <td>2001</td>\n",
       "      <td>11250000.0</td>\n",
       "      <td>81.0</td>\n",
       "      <td>40.0</td>\n",
       "      <td>7.5</td>\n",
       "      <td>15.8</td>\n",
       "      <td>0.472</td>\n",
       "      <td>0.1</td>\n",
       "      <td>0.8</td>\n",
       "      <td>...</td>\n",
       "      <td>9.1</td>\n",
       "      <td>3.1</td>\n",
       "      <td>1.1</td>\n",
       "      <td>1.0</td>\n",
       "      <td>2.9</td>\n",
       "      <td>2.9</td>\n",
       "      <td>20.5</td>\n",
       "      <td>5</td>\n",
       "      <td>42500000</td>\n",
       "      <td>0.264706</td>\n",
       "    </tr>\n",
       "    <tr>\n",
       "      <th>2</th>\n",
       "      <td>7456</td>\n",
       "      <td>2001</td>\n",
       "      <td>1995741.0</td>\n",
       "      <td>0.0</td>\n",
       "      <td>8.7</td>\n",
       "      <td>0.7</td>\n",
       "      <td>2.2</td>\n",
       "      <td>0.321</td>\n",
       "      <td>0.2</td>\n",
       "      <td>0.6</td>\n",
       "      <td>...</td>\n",
       "      <td>1.0</td>\n",
       "      <td>1.4</td>\n",
       "      <td>0.6</td>\n",
       "      <td>0.0</td>\n",
       "      <td>1.0</td>\n",
       "      <td>1.1</td>\n",
       "      <td>2.0</td>\n",
       "      <td>6</td>\n",
       "      <td>42500000</td>\n",
       "      <td>0.046959</td>\n",
       "    </tr>\n",
       "  </tbody>\n",
       "</table>\n",
       "<p>3 rows × 30 columns</p>\n",
       "</div>"
      ],
      "text/plain": [
       "   Unnamed: 0  SalStartYr      Salary    GS    MP   FG   FGA    FG%   3P  3PA  \\\n",
       "0        7454        2001   5062500.0  12.0  14.5  1.5   3.8  0.387  0.1  0.3   \n",
       "1        7455        2001  11250000.0  81.0  40.0  7.5  15.8  0.472  0.1  0.8   \n",
       "2        7456        2001   1995741.0   0.0   8.7  0.7   2.2  0.321  0.2  0.6   \n",
       "\n",
       "   ...  TRB  AST  STL  BLK  TOV   PF   PTS  years_of_exp  salary_cap  \\\n",
       "0  ...  2.0  0.8  0.5  0.4  1.2  1.9   3.8             4    42500000   \n",
       "1  ...  9.1  3.1  1.1  1.0  2.9  2.9  20.5             5    42500000   \n",
       "2  ...  1.0  1.4  0.6  0.0  1.0  1.1   2.0             6    42500000   \n",
       "\n",
       "   Per_of_Salary_Cap  \n",
       "0           0.119118  \n",
       "1           0.264706  \n",
       "2           0.046959  \n",
       "\n",
       "[3 rows x 30 columns]"
      ]
     },
     "execution_count": 8,
     "metadata": {},
     "output_type": "execute_result"
    }
   ],
   "source": [
    "data_cleaned[:3]"
   ]
  },
  {
   "cell_type": "code",
   "execution_count": 15,
   "metadata": {
    "collapsed": false,
    "jupyter": {
     "outputs_hidden": false
    }
   },
   "outputs": [
    {
     "name": "stdout",
     "output_type": "stream",
     "text": [
      "(6222, 29)\n"
     ]
    }
   ],
   "source": [
    "#extract input features and output vector\n",
    "X = data_cleaned.loc[:,data_cleaned.columns != 'Per_of_Salary_Cap'].to_numpy()\n",
    "y = data_cleaned['Per_of_Salary_Cap'].to_numpy()\n",
    "print(X.shape)"
   ]
  },
  {
   "cell_type": "code",
   "execution_count": 16,
   "metadata": {
    "collapsed": false,
    "jupyter": {
     "outputs_hidden": false
    }
   },
   "outputs": [],
   "source": [
    "#split into train, validation, and test sets\n",
    "X_train, X_test, y_train, y_test = train_test_split(X, y, test_size= .2, shuffle=True)\n",
    "X_train, X_val, y_train, y_val = train_test_split(X_train, y_train, test_size=.2, shuffle = True)"
   ]
  },
  {
   "cell_type": "code",
   "execution_count": 12,
   "metadata": {
    "collapsed": false,
    "jupyter": {
     "outputs_hidden": false
    }
   },
   "outputs": [],
   "source": [
    "lin_model_file_names = ['poly_model_deg1.sav', \n",
    "                        'ploy_model_deg2.sav', \n",
    "                        'ploy_model_deg3.sav', \n",
    "                        'poly_model_deg4.sav']\n",
    "\n",
    "lin_models = [SVR(kernel='poly', degree=1), \n",
    "          SVR(kernel='poly', degree=2), \n",
    "          SVR(kernel='poly', degree=3), \n",
    "          SVR(kernel='poly', degree=4)]"
   ]
  },
  {
   "cell_type": "code",
   "execution_count": 20,
   "metadata": {
    "collapsed": false,
    "jupyter": {
     "outputs_hidden": false
    }
   },
   "outputs": [
    {
     "name": "stdout",
     "output_type": "stream",
     "text": [
      "Degree 1 model train score: 0.6617301834041465\n",
      "Degree 1 model val score: 0.6933101577608418\n",
      "Degree 1 model train RMSE: 0.05080218860072337\n",
      "Degree 1 model validation RMSE: 0.04897892631927916\n",
      "\n",
      "Degree 2 model train score: 0.49173873718859973\n",
      "Degree 2 model val score: 0.5229220248588454\n",
      "Degree 2 model train RMSE: 0.062272213619184384\n",
      "Degree 2 model validation RMSE: 0.061087766713653936\n",
      "\n",
      "Degree 3 model train score: 0.3084603215436841\n",
      "Degree 3 model val score: 0.33454098256861964\n",
      "Degree 3 model train RMSE: 0.07263724274157198\n",
      "Degree 3 model validation RMSE: 0.07214732306135732\n",
      "\n"
     ]
    }
   ],
   "source": [
    "#train models of different polynomial degrees\n",
    "models = []\n",
    "for deg in range(1, 4):\n",
    "    model = SVR(kernel='poly', degree=deg)\n",
    "    model.fit(X_train, y_train)\n",
    "    models.append(model) #save for later\n",
    "    \n",
    "    y_train_predict = model.predict(X_train)\n",
    "    y_val_predict = model.predict(X_val)\n",
    "    rmse_train = mean_squared_error(y_train, y_train_predict, squared=False)\n",
    "    rmse_val = mean_squared_error(y_val, y_val_predict, squared=False)\n",
    "    \n",
    "    print(f\"Degree {deg} model train score: {model.score(X_train, y_train)}\")\n",
    "    print(f\"Degree {deg} model val score: {model.score(X_val, y_val)}\")\n",
    "    print(f\"Degree {deg} model train RMSE: {rmse_train}\")\n",
    "    print(f\"Degree {deg} model validation RMSE: {rmse_val}\\n\")"
   ]
  },
  {
   "cell_type": "markdown",
   "metadata": {
    "jupyter": {
     "outputs_hidden": false
    }
   },
   "source": [
    "Degree 1 best \n",
    "\n",
    "scores: R^2 score = 0.69 \n",
    "\n",
    "Validation RMSE = 0.049"
   ]
  },
  {
   "cell_type": "code",
   "execution_count": 24,
   "metadata": {},
   "outputs": [
    {
     "name": "stdout",
     "output_type": "stream",
     "text": [
      "Degree 1 model test score: 0.674348454112879\n",
      "Degree 1 model test RMSE: 0.05212519255603451\n"
     ]
    }
   ],
   "source": [
    "#evaluate model on test data\n",
    "best_model_index = 0\n",
    "best_model = models[best_model_index]\n",
    "y_test_predict = best_model.predict(X_test)\n",
    "rmse_test = mean_squared_error(y_test, y_test_predict, squared=False)\n",
    "    \n",
    "print(f\"Degree {best_model_index+1} model test score: {best_model.score(X_test, y_test)}\")\n",
    "print(f\"Degree {best_model_index+1} model test RMSE: {rmse_test}\")"
   ]
  },
  {
   "cell_type": "code",
   "execution_count": null,
   "metadata": {},
   "outputs": [],
   "source": []
  }
 ],
 "metadata": {
  "kernelspec": {
   "display_name": "Python 3",
   "language": "python",
   "name": "python3"
  },
  "language_info": {
   "codemirror_mode": {
    "name": "ipython",
    "version": 3
   },
   "file_extension": ".py",
   "mimetype": "text/x-python",
   "name": "python",
   "nbconvert_exporter": "python",
   "pygments_lexer": "ipython3",
   "version": "3.7.6"
  }
 },
 "nbformat": 4,
 "nbformat_minor": 4
}
