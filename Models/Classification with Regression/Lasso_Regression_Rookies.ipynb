{
 "cells": [
  {
   "cell_type": "markdown",
   "metadata": {},
   "source": [
    "# Predicting Salary of NBA Rookies with Lasso Regression"
   ]
  },
  {
   "cell_type": "markdown",
   "metadata": {},
   "source": [
    "by: Tristan Dewing and Adhvaith Vijay"
   ]
  },
  {
   "cell_type": "markdown",
   "metadata": {},
   "source": [
    "## Importing Packages"
   ]
  },
  {
   "cell_type": "code",
   "execution_count": 164,
   "metadata": {},
   "outputs": [],
   "source": [
    "import pandas as pd\n",
    "import numpy as np\n",
    "import matplotlib.pyplot as plt\n",
    "%matplotlib inline\n",
    "import seaborn as sns\n",
    "import sklearn\n",
    "from sklearn.preprocessing import StandardScaler, LabelEncoder\n",
    "from sklearn.cluster import KMeans\n",
    "from sklearn import metrics\n",
    "from sklearn.cluster import AgglomerativeClustering"
   ]
  },
  {
   "cell_type": "code",
   "execution_count": 165,
   "metadata": {},
   "outputs": [],
   "source": [
    "pd.set_option('display.max_columns', None)\n",
    "pd.options.mode.chained_assignment = None  # default='warn'"
   ]
  },
  {
   "cell_type": "code",
   "execution_count": 166,
   "metadata": {},
   "outputs": [],
   "source": [
    "import sklearn.preprocessing, sklearn.decomposition, sklearn.linear_model, sklearn.pipeline, sklearn.metrics\n",
    "from sklearn.feature_extraction.text import CountVectorizer\n",
    "from sklearn_pandas import DataFrameMapper"
   ]
  },
  {
   "cell_type": "code",
   "execution_count": 167,
   "metadata": {},
   "outputs": [],
   "source": [
    "np.random.seed(4242)"
   ]
  },
  {
   "cell_type": "markdown",
   "metadata": {},
   "source": [
    "## Cleaning the Dataset (Adhvaith)"
   ]
  },
  {
   "cell_type": "markdown",
   "metadata": {},
   "source": [
    "We first take the dataset of NBA players' statistics and then subset rookie players with more than 1 year of experience as well as the set of columns that will best predict Salary, which are: `FG`, `FTA`, `AST`, `TRB`, `PTS`, `BLK`,`Salary`,`SalStartYr`,`TOV`,`Age`,`G`, `Pos`. We will also remove rows with outliers in `Salary`."
   ]
  },
  {
   "cell_type": "code",
   "execution_count": 168,
   "metadata": {},
   "outputs": [],
   "source": [
    "adv_df = pd.read_csv('adv_df.csv')"
   ]
  },
  {
   "cell_type": "code",
   "execution_count": 169,
   "metadata": {},
   "outputs": [
    {
     "data": {
      "text/html": [
       "<div>\n",
       "<style scoped>\n",
       "    .dataframe tbody tr th:only-of-type {\n",
       "        vertical-align: middle;\n",
       "    }\n",
       "\n",
       "    .dataframe tbody tr th {\n",
       "        vertical-align: top;\n",
       "    }\n",
       "\n",
       "    .dataframe thead th {\n",
       "        text-align: right;\n",
       "    }\n",
       "</style>\n",
       "<table border=\"1\" class=\"dataframe\">\n",
       "  <thead>\n",
       "    <tr style=\"text-align: right;\">\n",
       "      <th></th>\n",
       "      <th>Unnamed: 0</th>\n",
       "      <th>Player</th>\n",
       "      <th>StartYr</th>\n",
       "      <th>EndYr</th>\n",
       "      <th>SalStartYr</th>\n",
       "      <th>SalEndYr</th>\n",
       "      <th>Salary</th>\n",
       "      <th>SalaryInfl</th>\n",
       "      <th>Pos</th>\n",
       "      <th>Age</th>\n",
       "      <th>Tm</th>\n",
       "      <th>G</th>\n",
       "      <th>GS</th>\n",
       "      <th>MP</th>\n",
       "      <th>FG</th>\n",
       "      <th>FGA</th>\n",
       "      <th>FG%</th>\n",
       "      <th>3P</th>\n",
       "      <th>3PA</th>\n",
       "      <th>3P%</th>\n",
       "      <th>2P</th>\n",
       "      <th>2PA</th>\n",
       "      <th>2P%</th>\n",
       "      <th>eFG%</th>\n",
       "      <th>FT</th>\n",
       "      <th>FTA</th>\n",
       "      <th>FT%</th>\n",
       "      <th>ORB</th>\n",
       "      <th>DRB</th>\n",
       "      <th>TRB</th>\n",
       "      <th>AST</th>\n",
       "      <th>STL</th>\n",
       "      <th>BLK</th>\n",
       "      <th>TOV</th>\n",
       "      <th>PF</th>\n",
       "      <th>PTS</th>\n",
       "      <th>years_of_exp</th>\n",
       "      <th>salary_cap</th>\n",
       "      <th>salary_cap_adjusted</th>\n",
       "      <th>Per_of_Salary_Cap</th>\n",
       "    </tr>\n",
       "  </thead>\n",
       "  <tbody>\n",
       "    <tr>\n",
       "      <th>6217</th>\n",
       "      <td>16844</td>\n",
       "      <td>Delon Wright</td>\n",
       "      <td>2019</td>\n",
       "      <td>2020</td>\n",
       "      <td>2020</td>\n",
       "      <td>2021</td>\n",
       "      <td>9000000.0</td>\n",
       "      <td>8526316.0</td>\n",
       "      <td>PG</td>\n",
       "      <td>27</td>\n",
       "      <td>DAL</td>\n",
       "      <td>73</td>\n",
       "      <td>5.0</td>\n",
       "      <td>21.5</td>\n",
       "      <td>2.6</td>\n",
       "      <td>5.6</td>\n",
       "      <td>0.462</td>\n",
       "      <td>0.6</td>\n",
       "      <td>1.7</td>\n",
       "      <td>0.370</td>\n",
       "      <td>2.0</td>\n",
       "      <td>3.9</td>\n",
       "      <td>0.504</td>\n",
       "      <td>0.519</td>\n",
       "      <td>1.1</td>\n",
       "      <td>1.4</td>\n",
       "      <td>0.770</td>\n",
       "      <td>1.0</td>\n",
       "      <td>2.9</td>\n",
       "      <td>3.8</td>\n",
       "      <td>3.3</td>\n",
       "      <td>1.2</td>\n",
       "      <td>0.3</td>\n",
       "      <td>1.0</td>\n",
       "      <td>1.3</td>\n",
       "      <td>6.9</td>\n",
       "      <td>5</td>\n",
       "      <td>109140000</td>\n",
       "      <td>NaN</td>\n",
       "      <td>0.082463</td>\n",
       "    </tr>\n",
       "    <tr>\n",
       "      <th>6218</th>\n",
       "      <td>16846</td>\n",
       "      <td>Thaddeus Young</td>\n",
       "      <td>2019</td>\n",
       "      <td>2020</td>\n",
       "      <td>2020</td>\n",
       "      <td>2021</td>\n",
       "      <td>13545000.0</td>\n",
       "      <td>14190000.0</td>\n",
       "      <td>PF</td>\n",
       "      <td>31</td>\n",
       "      <td>CHI</td>\n",
       "      <td>64</td>\n",
       "      <td>16.0</td>\n",
       "      <td>24.9</td>\n",
       "      <td>4.2</td>\n",
       "      <td>9.4</td>\n",
       "      <td>0.448</td>\n",
       "      <td>1.2</td>\n",
       "      <td>3.5</td>\n",
       "      <td>0.356</td>\n",
       "      <td>3.0</td>\n",
       "      <td>5.9</td>\n",
       "      <td>0.501</td>\n",
       "      <td>0.513</td>\n",
       "      <td>0.7</td>\n",
       "      <td>1.1</td>\n",
       "      <td>0.583</td>\n",
       "      <td>1.5</td>\n",
       "      <td>3.5</td>\n",
       "      <td>4.9</td>\n",
       "      <td>1.8</td>\n",
       "      <td>1.4</td>\n",
       "      <td>0.4</td>\n",
       "      <td>1.6</td>\n",
       "      <td>2.1</td>\n",
       "      <td>10.3</td>\n",
       "      <td>13</td>\n",
       "      <td>109140000</td>\n",
       "      <td>NaN</td>\n",
       "      <td>0.124107</td>\n",
       "    </tr>\n",
       "    <tr>\n",
       "      <th>6219</th>\n",
       "      <td>16847</td>\n",
       "      <td>Trae Young</td>\n",
       "      <td>2019</td>\n",
       "      <td>2020</td>\n",
       "      <td>2020</td>\n",
       "      <td>2021</td>\n",
       "      <td>6571800.0</td>\n",
       "      <td>8326471.0</td>\n",
       "      <td>PG</td>\n",
       "      <td>21</td>\n",
       "      <td>ATL</td>\n",
       "      <td>60</td>\n",
       "      <td>60.0</td>\n",
       "      <td>35.3</td>\n",
       "      <td>9.1</td>\n",
       "      <td>20.8</td>\n",
       "      <td>0.437</td>\n",
       "      <td>3.4</td>\n",
       "      <td>9.5</td>\n",
       "      <td>0.361</td>\n",
       "      <td>5.7</td>\n",
       "      <td>11.4</td>\n",
       "      <td>0.501</td>\n",
       "      <td>0.519</td>\n",
       "      <td>8.0</td>\n",
       "      <td>9.3</td>\n",
       "      <td>0.860</td>\n",
       "      <td>0.5</td>\n",
       "      <td>3.7</td>\n",
       "      <td>4.3</td>\n",
       "      <td>9.3</td>\n",
       "      <td>1.1</td>\n",
       "      <td>0.1</td>\n",
       "      <td>4.8</td>\n",
       "      <td>1.7</td>\n",
       "      <td>29.6</td>\n",
       "      <td>2</td>\n",
       "      <td>109140000</td>\n",
       "      <td>NaN</td>\n",
       "      <td>0.060214</td>\n",
       "    </tr>\n",
       "    <tr>\n",
       "      <th>6220</th>\n",
       "      <td>16848</td>\n",
       "      <td>Cody Zeller</td>\n",
       "      <td>2019</td>\n",
       "      <td>2020</td>\n",
       "      <td>2020</td>\n",
       "      <td>2021</td>\n",
       "      <td>15415730.0</td>\n",
       "      <td>0.0</td>\n",
       "      <td>C</td>\n",
       "      <td>27</td>\n",
       "      <td>CHO</td>\n",
       "      <td>58</td>\n",
       "      <td>39.0</td>\n",
       "      <td>23.1</td>\n",
       "      <td>4.3</td>\n",
       "      <td>8.3</td>\n",
       "      <td>0.524</td>\n",
       "      <td>0.3</td>\n",
       "      <td>1.3</td>\n",
       "      <td>0.240</td>\n",
       "      <td>4.0</td>\n",
       "      <td>7.0</td>\n",
       "      <td>0.577</td>\n",
       "      <td>0.543</td>\n",
       "      <td>2.1</td>\n",
       "      <td>3.1</td>\n",
       "      <td>0.682</td>\n",
       "      <td>2.8</td>\n",
       "      <td>4.3</td>\n",
       "      <td>7.1</td>\n",
       "      <td>1.5</td>\n",
       "      <td>0.7</td>\n",
       "      <td>0.4</td>\n",
       "      <td>1.3</td>\n",
       "      <td>2.4</td>\n",
       "      <td>11.1</td>\n",
       "      <td>7</td>\n",
       "      <td>109140000</td>\n",
       "      <td>NaN</td>\n",
       "      <td>0.141247</td>\n",
       "    </tr>\n",
       "    <tr>\n",
       "      <th>6221</th>\n",
       "      <td>16851</td>\n",
       "      <td>Ivica Zubac</td>\n",
       "      <td>2019</td>\n",
       "      <td>2020</td>\n",
       "      <td>2020</td>\n",
       "      <td>2021</td>\n",
       "      <td>7000000.0</td>\n",
       "      <td>7518518.0</td>\n",
       "      <td>C</td>\n",
       "      <td>22</td>\n",
       "      <td>LAC</td>\n",
       "      <td>72</td>\n",
       "      <td>70.0</td>\n",
       "      <td>18.4</td>\n",
       "      <td>3.3</td>\n",
       "      <td>5.3</td>\n",
       "      <td>0.613</td>\n",
       "      <td>0.0</td>\n",
       "      <td>0.0</td>\n",
       "      <td>0.000</td>\n",
       "      <td>3.3</td>\n",
       "      <td>5.3</td>\n",
       "      <td>0.616</td>\n",
       "      <td>0.613</td>\n",
       "      <td>1.7</td>\n",
       "      <td>2.3</td>\n",
       "      <td>0.747</td>\n",
       "      <td>2.7</td>\n",
       "      <td>4.8</td>\n",
       "      <td>7.5</td>\n",
       "      <td>1.1</td>\n",
       "      <td>0.2</td>\n",
       "      <td>0.9</td>\n",
       "      <td>0.8</td>\n",
       "      <td>2.3</td>\n",
       "      <td>8.3</td>\n",
       "      <td>4</td>\n",
       "      <td>109140000</td>\n",
       "      <td>NaN</td>\n",
       "      <td>0.064138</td>\n",
       "    </tr>\n",
       "  </tbody>\n",
       "</table>\n",
       "</div>"
      ],
      "text/plain": [
       "      Unnamed: 0          Player  StartYr  EndYr  SalStartYr  SalEndYr  \\\n",
       "6217       16844    Delon Wright     2019   2020        2020      2021   \n",
       "6218       16846  Thaddeus Young     2019   2020        2020      2021   \n",
       "6219       16847      Trae Young     2019   2020        2020      2021   \n",
       "6220       16848     Cody Zeller     2019   2020        2020      2021   \n",
       "6221       16851     Ivica Zubac     2019   2020        2020      2021   \n",
       "\n",
       "          Salary  SalaryInfl Pos  Age   Tm   G    GS    MP   FG   FGA    FG%  \\\n",
       "6217   9000000.0   8526316.0  PG   27  DAL  73   5.0  21.5  2.6   5.6  0.462   \n",
       "6218  13545000.0  14190000.0  PF   31  CHI  64  16.0  24.9  4.2   9.4  0.448   \n",
       "6219   6571800.0   8326471.0  PG   21  ATL  60  60.0  35.3  9.1  20.8  0.437   \n",
       "6220  15415730.0         0.0   C   27  CHO  58  39.0  23.1  4.3   8.3  0.524   \n",
       "6221   7000000.0   7518518.0   C   22  LAC  72  70.0  18.4  3.3   5.3  0.613   \n",
       "\n",
       "       3P  3PA    3P%   2P   2PA    2P%   eFG%   FT  FTA    FT%  ORB  DRB  \\\n",
       "6217  0.6  1.7  0.370  2.0   3.9  0.504  0.519  1.1  1.4  0.770  1.0  2.9   \n",
       "6218  1.2  3.5  0.356  3.0   5.9  0.501  0.513  0.7  1.1  0.583  1.5  3.5   \n",
       "6219  3.4  9.5  0.361  5.7  11.4  0.501  0.519  8.0  9.3  0.860  0.5  3.7   \n",
       "6220  0.3  1.3  0.240  4.0   7.0  0.577  0.543  2.1  3.1  0.682  2.8  4.3   \n",
       "6221  0.0  0.0  0.000  3.3   5.3  0.616  0.613  1.7  2.3  0.747  2.7  4.8   \n",
       "\n",
       "      TRB  AST  STL  BLK  TOV   PF   PTS  years_of_exp  salary_cap  \\\n",
       "6217  3.8  3.3  1.2  0.3  1.0  1.3   6.9             5   109140000   \n",
       "6218  4.9  1.8  1.4  0.4  1.6  2.1  10.3            13   109140000   \n",
       "6219  4.3  9.3  1.1  0.1  4.8  1.7  29.6             2   109140000   \n",
       "6220  7.1  1.5  0.7  0.4  1.3  2.4  11.1             7   109140000   \n",
       "6221  7.5  1.1  0.2  0.9  0.8  2.3   8.3             4   109140000   \n",
       "\n",
       "      salary_cap_adjusted  Per_of_Salary_Cap  \n",
       "6217                  NaN           0.082463  \n",
       "6218                  NaN           0.124107  \n",
       "6219                  NaN           0.060214  \n",
       "6220                  NaN           0.141247  \n",
       "6221                  NaN           0.064138  "
      ]
     },
     "execution_count": 169,
     "metadata": {},
     "output_type": "execute_result"
    }
   ],
   "source": [
    "adv_df.tail()"
   ]
  },
  {
   "cell_type": "code",
   "execution_count": 170,
   "metadata": {},
   "outputs": [
    {
     "data": {
      "text/plain": [
       "1306"
      ]
     },
     "execution_count": 170,
     "metadata": {},
     "output_type": "execute_result"
    }
   ],
   "source": [
    "len(adv_df['Player'].unique())"
   ]
  },
  {
   "cell_type": "code",
   "execution_count": 171,
   "metadata": {
    "scrolled": true
   },
   "outputs": [],
   "source": [
    "adv_df.drop(adv_df.columns[0], axis = 1, inplace = True)"
   ]
  },
  {
   "cell_type": "code",
   "execution_count": 172,
   "metadata": {},
   "outputs": [],
   "source": [
    "christine_subset = adv_df[['FG', 'FTA', 'AST', 'TRB', 'PTS', 'BLK', 'years_of_exp','Salary','SalStartYr','TOV','Age','G','Pos']]"
   ]
  },
  {
   "cell_type": "code",
   "execution_count": 173,
   "metadata": {},
   "outputs": [],
   "source": [
    "christine_subset = christine_subset[christine_subset['years_of_exp'] == 1]"
   ]
  },
  {
   "cell_type": "code",
   "execution_count": 174,
   "metadata": {},
   "outputs": [],
   "source": [
    "christine_subset.drop(columns = 'years_of_exp', axis = 1, inplace = True)"
   ]
  },
  {
   "cell_type": "markdown",
   "metadata": {},
   "source": [
    "## Eliminating Ouliers in Salary (Adhvaith)"
   ]
  },
  {
   "cell_type": "code",
   "execution_count": 175,
   "metadata": {},
   "outputs": [
    {
     "data": {
      "text/plain": [
       "767791.5"
      ]
     },
     "execution_count": 175,
     "metadata": {},
     "output_type": "execute_result"
    }
   ],
   "source": [
    "#first quartile\n",
    "q1 = christine_subset['Salary'].quantile(.25)\n",
    "q1"
   ]
  },
  {
   "cell_type": "code",
   "execution_count": 176,
   "metadata": {},
   "outputs": [
    {
     "data": {
      "text/plain": [
       "2176200.0"
      ]
     },
     "execution_count": 176,
     "metadata": {},
     "output_type": "execute_result"
    }
   ],
   "source": [
    "#first quartile\n",
    "q3 = christine_subset['Salary'].quantile(.75)\n",
    "q3"
   ]
  },
  {
   "cell_type": "code",
   "execution_count": 177,
   "metadata": {},
   "outputs": [
    {
     "data": {
      "text/plain": [
       "1408408.5"
      ]
     },
     "execution_count": 177,
     "metadata": {},
     "output_type": "execute_result"
    }
   ],
   "source": [
    "#interquartile range\n",
    "iqr = q3 - q1\n",
    "iqr"
   ]
  },
  {
   "cell_type": "code",
   "execution_count": 178,
   "metadata": {},
   "outputs": [
    {
     "data": {
      "text/plain": [
       "-1344821.25"
      ]
     },
     "execution_count": 178,
     "metadata": {},
     "output_type": "execute_result"
    }
   ],
   "source": [
    "#lower limit for outliers, lower than 0 so no need to account for\n",
    "lower = q1 - 1.5 * iqr\n",
    "lower"
   ]
  },
  {
   "cell_type": "code",
   "execution_count": 179,
   "metadata": {},
   "outputs": [
    {
     "data": {
      "text/plain": [
       "4288812.75"
      ]
     },
     "execution_count": 179,
     "metadata": {},
     "output_type": "execute_result"
    }
   ],
   "source": [
    "#upper limit for outliers\n",
    "upper = q3 + 1.5 * iqr\n",
    "upper"
   ]
  },
  {
   "cell_type": "code",
   "execution_count": 180,
   "metadata": {},
   "outputs": [
    {
     "data": {
      "text/plain": [
       "(879, 12)"
      ]
     },
     "execution_count": 180,
     "metadata": {},
     "output_type": "execute_result"
    }
   ],
   "source": [
    "christine_subset.shape"
   ]
  },
  {
   "cell_type": "code",
   "execution_count": 181,
   "metadata": {},
   "outputs": [
    {
     "data": {
      "text/plain": [
       "56"
      ]
     },
     "execution_count": 181,
     "metadata": {},
     "output_type": "execute_result"
    }
   ],
   "source": [
    "outliers = christine_subset[christine_subset['Salary'] >= upper]\n",
    "len(outliers)"
   ]
  },
  {
   "cell_type": "code",
   "execution_count": 182,
   "metadata": {},
   "outputs": [],
   "source": [
    "from sklearn import preprocessing\n",
    "le = preprocessing.LabelEncoder()\n",
    "christine_subset['SalStartYr'] = le.fit_transform(christine_subset['SalStartYr'])\n",
    "christine_subset['Pos'] = le.fit_transform(christine_subset['Pos'])\n"
   ]
  },
  {
   "cell_type": "markdown",
   "metadata": {},
   "source": [
    "## Forming Clusters via Elbow Method (Adhvaith)"
   ]
  },
  {
   "cell_type": "markdown",
   "metadata": {},
   "source": [
    "Next, we will form clusters within the cleaned dataset based on `Salary` and add them as a new column `Cluster`."
   ]
  },
  {
   "cell_type": "code",
   "execution_count": 183,
   "metadata": {},
   "outputs": [],
   "source": [
    "from sklearn.cluster import KMeans\n",
    "from sklearn import metrics\n",
    "from scipy.spatial.distance import cdist\n",
    "import numpy as np\n",
    "import matplotlib.pyplot as pl"
   ]
  },
  {
   "cell_type": "code",
   "execution_count": 184,
   "metadata": {},
   "outputs": [],
   "source": [
    "to_elbow = christine_subset.drop(columns = 'Salary', axis = 1)"
   ]
  },
  {
   "cell_type": "code",
   "execution_count": 185,
   "metadata": {},
   "outputs": [],
   "source": [
    "distortions = []\n",
    "inertias = []\n",
    "\n",
    "K = range(1, 10)\n",
    " \n",
    "for k in K:\n",
    "    # Building and fitting the model\n",
    "    kmeanModel = KMeans(n_clusters=k).fit(to_elbow)\n",
    "    kmeanModel.fit(to_elbow)\n",
    " \n",
    "    distortions.append(sum(np.min(cdist(to_elbow, kmeanModel.cluster_centers_,\n",
    "                                        'euclidean'), axis=1)) / to_elbow.shape[0])\n",
    "    \n",
    "    inertias.append(kmeanModel.inertia_)"
   ]
  },
  {
   "cell_type": "code",
   "execution_count": 186,
   "metadata": {},
   "outputs": [
    {
     "data": {
      "image/png": "[encoded data removed]",
      "text/plain": [
       "<Figure size 432x288 with 1 Axes>"
      ]
     },
     "metadata": {
      "needs_background": "light"
     },
     "output_type": "display_data"
    }
   ],
   "source": [
    "plt.plot(K, distortions, 'bx-')\n",
    "plt.xlabel('Values of K')\n",
    "plt.ylabel('Inertia')\n",
    "plt.title('The Elbow Method using Inertia')\n",
    "plt.show()"
   ]
  },
  {
   "cell_type": "code",
   "execution_count": 187,
   "metadata": {},
   "outputs": [],
   "source": [
    "kmeans=KMeans(n_clusters=3,random_state=1)"
   ]
  },
  {
   "cell_type": "code",
   "execution_count": 188,
   "metadata": {},
   "outputs": [
    {
     "data": {
      "text/plain": [
       "KMeans(n_clusters=3, random_state=1)"
      ]
     },
     "execution_count": 188,
     "metadata": {},
     "output_type": "execute_result"
    }
   ],
   "source": [
    "kmeans.fit(to_elbow)"
   ]
  },
  {
   "cell_type": "code",
   "execution_count": 189,
   "metadata": {},
   "outputs": [],
   "source": [
    "to_elbow['Cluster'] = kmeans.labels_"
   ]
  },
  {
   "cell_type": "code",
   "execution_count": 190,
   "metadata": {},
   "outputs": [
    {
     "data": {
      "text/plain": [
       "array([1, 2, 0], dtype=int32)"
      ]
     },
     "execution_count": 190,
     "metadata": {},
     "output_type": "execute_result"
    }
   ],
   "source": [
    "to_elbow['Cluster'].unique()"
   ]
  },
  {
   "cell_type": "code",
   "execution_count": 191,
   "metadata": {},
   "outputs": [
    {
     "data": {
      "text/plain": [
       "(879, 12)"
      ]
     },
     "execution_count": 191,
     "metadata": {},
     "output_type": "execute_result"
    }
   ],
   "source": [
    "to_elbow.shape"
   ]
  },
  {
   "cell_type": "code",
   "execution_count": 192,
   "metadata": {},
   "outputs": [],
   "source": [
    "christine_subset['Cluster'] = to_elbow['Cluster']"
   ]
  },
  {
   "cell_type": "code",
   "execution_count": 193,
   "metadata": {},
   "outputs": [
    {
     "data": {
      "text/html": [
       "<div>\n",
       "<style scoped>\n",
       "    .dataframe tbody tr th:only-of-type {\n",
       "        vertical-align: middle;\n",
       "    }\n",
       "\n",
       "    .dataframe tbody tr th {\n",
       "        vertical-align: top;\n",
       "    }\n",
       "\n",
       "    .dataframe thead th {\n",
       "        text-align: right;\n",
       "    }\n",
       "</style>\n",
       "<table border=\"1\" class=\"dataframe\">\n",
       "  <thead>\n",
       "    <tr style=\"text-align: right;\">\n",
       "      <th></th>\n",
       "      <th>FG</th>\n",
       "      <th>FTA</th>\n",
       "      <th>AST</th>\n",
       "      <th>TRB</th>\n",
       "      <th>PTS</th>\n",
       "      <th>BLK</th>\n",
       "      <th>Salary</th>\n",
       "      <th>SalStartYr</th>\n",
       "      <th>TOV</th>\n",
       "      <th>Age</th>\n",
       "      <th>G</th>\n",
       "      <th>Pos</th>\n",
       "      <th>Cluster</th>\n",
       "    </tr>\n",
       "  </thead>\n",
       "  <tbody>\n",
       "    <tr>\n",
       "      <th>3</th>\n",
       "      <td>3.7</td>\n",
       "      <td>2.3</td>\n",
       "      <td>1.0</td>\n",
       "      <td>2.2</td>\n",
       "      <td>9.5</td>\n",
       "      <td>0.1</td>\n",
       "      <td>1418400.0</td>\n",
       "      <td>0</td>\n",
       "      <td>1.2</td>\n",
       "      <td>23</td>\n",
       "      <td>65</td>\n",
       "      <td>3</td>\n",
       "      <td>1</td>\n",
       "    </tr>\n",
       "    <tr>\n",
       "      <th>43</th>\n",
       "      <td>0.7</td>\n",
       "      <td>1.2</td>\n",
       "      <td>0.2</td>\n",
       "      <td>1.5</td>\n",
       "      <td>2.1</td>\n",
       "      <td>0.1</td>\n",
       "      <td>465850.0</td>\n",
       "      <td>0</td>\n",
       "      <td>0.6</td>\n",
       "      <td>23</td>\n",
       "      <td>15</td>\n",
       "      <td>2</td>\n",
       "      <td>2</td>\n",
       "    </tr>\n",
       "    <tr>\n",
       "      <th>50</th>\n",
       "      <td>2.1</td>\n",
       "      <td>1.8</td>\n",
       "      <td>2.7</td>\n",
       "      <td>1.7</td>\n",
       "      <td>5.4</td>\n",
       "      <td>0.0</td>\n",
       "      <td>1347480.0</td>\n",
       "      <td>0</td>\n",
       "      <td>1.8</td>\n",
       "      <td>23</td>\n",
       "      <td>78</td>\n",
       "      <td>3</td>\n",
       "      <td>1</td>\n",
       "    </tr>\n",
       "    <tr>\n",
       "      <th>53</th>\n",
       "      <td>1.2</td>\n",
       "      <td>1.0</td>\n",
       "      <td>0.3</td>\n",
       "      <td>1.6</td>\n",
       "      <td>3.1</td>\n",
       "      <td>0.1</td>\n",
       "      <td>1280040.0</td>\n",
       "      <td>0</td>\n",
       "      <td>0.5</td>\n",
       "      <td>23</td>\n",
       "      <td>23</td>\n",
       "      <td>0</td>\n",
       "      <td>2</td>\n",
       "    </tr>\n",
       "    <tr>\n",
       "      <th>55</th>\n",
       "      <td>1.8</td>\n",
       "      <td>0.6</td>\n",
       "      <td>2.3</td>\n",
       "      <td>1.5</td>\n",
       "      <td>4.6</td>\n",
       "      <td>0.2</td>\n",
       "      <td>1894560.0</td>\n",
       "      <td>0</td>\n",
       "      <td>1.4</td>\n",
       "      <td>20</td>\n",
       "      <td>61</td>\n",
       "      <td>3</td>\n",
       "      <td>1</td>\n",
       "    </tr>\n",
       "  </tbody>\n",
       "</table>\n",
       "</div>"
      ],
      "text/plain": [
       "     FG  FTA  AST  TRB  PTS  BLK     Salary  SalStartYr  TOV  Age   G  Pos  \\\n",
       "3   3.7  2.3  1.0  2.2  9.5  0.1  1418400.0           0  1.2   23  65    3   \n",
       "43  0.7  1.2  0.2  1.5  2.1  0.1   465850.0           0  0.6   23  15    2   \n",
       "50  2.1  1.8  2.7  1.7  5.4  0.0  1347480.0           0  1.8   23  78    3   \n",
       "53  1.2  1.0  0.3  1.6  3.1  0.1  1280040.0           0  0.5   23  23    0   \n",
       "55  1.8  0.6  2.3  1.5  4.6  0.2  1894560.0           0  1.4   20  61    3   \n",
       "\n",
       "    Cluster  \n",
       "3         1  \n",
       "43        2  \n",
       "50        1  \n",
       "53        2  \n",
       "55        1  "
      ]
     },
     "execution_count": 193,
     "metadata": {},
     "output_type": "execute_result"
    }
   ],
   "source": [
    "christine_subset.head()"
   ]
  },
  {
   "cell_type": "markdown",
   "metadata": {},
   "source": [
    "## Lasso Regression"
   ]
  },
  {
   "cell_type": "markdown",
   "metadata": {},
   "source": [
    "We will now fit a lasso regression model to the dataset to predict `Salary`. The goal is to fit a lasso regression model that produces a high R^2 score and a low RMSE. We attempted to fit a model to all three clusters of the dataset, but here for brevity we have fitted the model to one cluster, which can be adjusted in the code. Part of the lasso regression process is determining the optimal value for the hyperparameter alpha, or lamda, which determines the penalty for the lasso regression model. The process we use to determine the best alpha/lamda value is inspired by Jan Kirenz's article \"Lasso Regression with Python\": https://www.kirenz.com/post/2019-08-12-python-lasso-regression-auto/"
   ]
  },
  {
   "cell_type": "code",
   "execution_count": 194,
   "metadata": {},
   "outputs": [],
   "source": [
    "c0 = christine_subset[christine_subset[\"Cluster\"] == 0]\n",
    "c1 = christine_subset[christine_subset[\"Cluster\"] == 1]\n",
    "c2 = christine_subset[christine_subset[\"Cluster\"] == 2]"
   ]
  },
  {
   "cell_type": "markdown",
   "metadata": {},
   "source": [
    "### Switch between Clusters 0 (c0), 1 (c1), and 2 (c2) Here!"
   ]
  },
  {
   "cell_type": "code",
   "execution_count": 195,
   "metadata": {},
   "outputs": [],
   "source": [
    "# Default: Cluster 0 (c0)\n",
    "X = c0.drop(columns = [\"Salary\", \"Cluster\"])\n",
    "y = c0[\"Salary\"]"
   ]
  },
  {
   "cell_type": "markdown",
   "metadata": {},
   "source": [
    "### Scaling and Train-Test Split"
   ]
  },
  {
   "cell_type": "code",
   "execution_count": 196,
   "metadata": {},
   "outputs": [
    {
     "name": "stdout",
     "output_type": "stream",
     "text": [
      "X.shape:       (262, 11)\n",
      "X_train.shape: (209, 11)\n",
      "X_test.shape:  (53, 11)\n",
      "\n",
      "y.shape:       (262,)\n",
      "y_train.shape: (209,)\n",
      "y_test.shape:  (53,)\n",
      "\n"
     ]
    }
   ],
   "source": [
    "from sklearn import preprocessing\n",
    "from sklearn.model_selection import train_test_split\n",
    "\n",
    "\n",
    "scaler = preprocessing.StandardScaler()\n",
    "X_scaled = scaler.fit_transform(X)\n",
    "X_train, X_test, y_train, y_test = train_test_split(X_scaled, y, test_size=0.2, random_state=10)\n",
    "\n",
    "print(\"X.shape:      \", X.shape)\n",
    "print(\"X_train.shape:\", X_train.shape)\n",
    "print(\"X_test.shape: \", X_test.shape)\n",
    "print(\"\")\n",
    "print(\"y.shape:      \", y.shape)\n",
    "print(\"y_train.shape:\", y_train.shape)\n",
    "print(\"y_test.shape: \", y_test.shape)\n",
    "print(\"\")"
   ]
  },
  {
   "cell_type": "markdown",
   "metadata": {},
   "source": [
    "### Creating Lasso Regression Model and Initial Test"
   ]
  },
  {
   "cell_type": "code",
   "execution_count": 197,
   "metadata": {},
   "outputs": [
    {
     "data": {
      "text/plain": [
       "-0.02083037130733012"
      ]
     },
     "execution_count": 197,
     "metadata": {},
     "output_type": "execute_result"
    }
   ],
   "source": [
    "from sklearn.linear_model import Lasso\n",
    "\n",
    "reg = Lasso(alpha = 0.001, max_iter = 1e4) # Note: I had to increase parameter max_iter for Lasso model to converge\n",
    "reg.fit(X_train, y_train)\n",
    "reg.score(X_test, y_test) # Initial R^2 Scores on Test Set"
   ]
  },
  {
   "cell_type": "code",
   "execution_count": 198,
   "metadata": {},
   "outputs": [
    {
     "name": "stdout",
     "output_type": "stream",
     "text": [
      "Lasso Regression: R^2 score on training set 0.4301074257174964\n",
      "Lasso Regression: R^2 score on test set -0.02083037130733012\n"
     ]
    }
   ],
   "source": [
    "# Initial R^2 Scores on Training and Test Sets:\n",
    "print('Lasso Regression: R^2 score on training set', reg.score(X_train, y_train))\n",
    "print('Lasso Regression: R^2 score on test set', reg.score(X_test, y_test))"
   ]
  },
  {
   "cell_type": "code",
   "execution_count": 199,
   "metadata": {},
   "outputs": [
    {
     "data": {
      "text/plain": [
       "880597.348304927"
      ]
     },
     "execution_count": 199,
     "metadata": {},
     "output_type": "execute_result"
    }
   ],
   "source": [
    "# Initial RMSE\n",
    "from sklearn.metrics import mean_squared_error\n",
    "mean_squared_error(y_test, reg.predict(X_test), squared = False)"
   ]
  },
  {
   "cell_type": "markdown",
   "metadata": {},
   "source": [
    "### Testing to Find Best Alpha (or Lamda) Value"
   ]
  },
  {
   "cell_type": "markdown",
   "metadata": {},
   "source": [
    "Here we will try plugging in an assortment of alpha/lamda values to approximate what the optimal value will be or what it will be close to."
   ]
  },
  {
   "cell_type": "code",
   "execution_count": 200,
   "metadata": {},
   "outputs": [],
   "source": [
    "lamdas = (0.001, 0.01, 0.1, 0.5, 1, 2, 10)\n",
    "l_num = 7\n",
    "pred_num = X.shape[1]\n",
    "\n",
    "# prepare data for enumerate\n",
    "coeff_l = np.zeros((l_num, pred_num))\n",
    "train_r_squared = np.zeros(l_num)\n",
    "test_r_squared = np.zeros(l_num)"
   ]
  },
  {
   "cell_type": "code",
   "execution_count": 201,
   "metadata": {},
   "outputs": [],
   "source": [
    "# enumerate through lamdas with index and i\n",
    "for ind, i in enumerate(lamdas):    \n",
    "    reg = Lasso(alpha = i, max_iter = 1e4)\n",
    "    reg.fit(X_train, y_train)\n",
    "\n",
    "    coeff_l[ind,:] = reg.coef_\n",
    "    train_r_squared[ind] = reg.score(X_train, y_train)\n",
    "    test_r_squared[ind] = reg.score(X_test, y_test)"
   ]
  },
  {
   "cell_type": "markdown",
   "metadata": {},
   "source": [
    "As the plot below shows, R^2 for both the training and test sets are the same for all the given alpha/lamda values, which hints that the value can be anything. However, we will use cross-validation to confirm this."
   ]
  },
  {
   "cell_type": "code",
   "execution_count": 202,
   "metadata": {},
   "outputs": [
    {
     "data": {
      "image/png": "[encoded data removed]",
      "text/plain": [
       "<Figure size 1296x576 with 1 Axes>"
      ]
     },
     "metadata": {
      "needs_background": "light"
     },
     "output_type": "display_data"
    }
   ],
   "source": [
    "# Plotting\n",
    "plt.figure(figsize=(18, 8))\n",
    "plt.plot(train_r_squared, 'bo-', label=r'$R^2$ Training set', color=\"darkblue\", alpha=0.6, linewidth=3)\n",
    "plt.plot(test_r_squared, 'bo-', label=r'$R^2$ Test set', color=\"darkred\", alpha=0.6, linewidth=3)\n",
    "plt.xlabel('Lamda index'); plt.ylabel(r'$R^2$')\n",
    "plt.xlim(0, 6)\n",
    "plt.title(r'Evaluate lasso regression with lamdas: 0 = 0.001, 1= 0.01, 2 = 0.1, 3 = 0.5, 4= 1, 5= 2, 6 = 10')\n",
    "plt.legend(loc='best')\n",
    "plt.grid()"
   ]
  },
  {
   "cell_type": "code",
   "execution_count": 203,
   "metadata": {},
   "outputs": [
    {
     "data": {
      "text/plain": [
       "R_squared    -0.020809\n",
       "lamda        10.000000\n",
       "Name: 6, dtype: float64"
      ]
     },
     "execution_count": 203,
     "metadata": {},
     "output_type": "execute_result"
    }
   ],
   "source": [
    "df_lamda = pd.DataFrame(test_r_squared, columns=['R_squared'])\n",
    "df_lamda['lamda'] = (lamdas)\n",
    "# returns the index of the row where column has maximum value.\n",
    "df_lamda.loc[df_lamda['R_squared'].idxmax()]"
   ]
  },
  {
   "cell_type": "code",
   "execution_count": 204,
   "metadata": {},
   "outputs": [
    {
     "name": "stdout",
     "output_type": "stream",
     "text": [
      "Lasso Regression: R^2 score on training set 0.4301074045014667\n",
      "Lasso Regression: R^2 score on test set -0.02080886831686768\n"
     ]
    }
   ],
   "source": [
    "print('Lasso Regression: R^2 score on training set', reg.score(X_train, y_train))\n",
    "print('Lasso Regression: R^2 score on test set', reg.score(X_test, y_test))"
   ]
  },
  {
   "cell_type": "code",
   "execution_count": 205,
   "metadata": {},
   "outputs": [
    {
     "data": {
      "text/plain": [
       "880588.0737101311"
      ]
     },
     "execution_count": 205,
     "metadata": {},
     "output_type": "execute_result"
    }
   ],
   "source": [
    "mean_squared_error(y_test, reg.predict(X_test), squared = False)"
   ]
  },
  {
   "cell_type": "markdown",
   "metadata": {},
   "source": [
    "### Cross-Validation for Best Alpha (or Lamda) Value"
   ]
  },
  {
   "cell_type": "code",
   "execution_count": 206,
   "metadata": {},
   "outputs": [
    {
     "name": "stdout",
     "output_type": "stream",
     "text": [
      "[1.000e-03 1.020e-01 2.030e-01 3.040e-01 4.050e-01 5.060e-01 6.070e-01\n",
      " 7.080e-01 8.090e-01 9.100e-01 1.011e+00 1.112e+00 1.213e+00 1.314e+00\n",
      " 1.415e+00 1.516e+00 1.617e+00 1.718e+00 1.819e+00 1.920e+00 2.021e+00\n",
      " 2.122e+00 2.223e+00 2.324e+00 2.425e+00 2.526e+00 2.627e+00 2.728e+00\n",
      " 2.829e+00 2.930e+00 3.031e+00 3.132e+00 3.233e+00 3.334e+00 3.435e+00\n",
      " 3.536e+00 3.637e+00 3.738e+00 3.839e+00 3.940e+00 4.041e+00 4.142e+00\n",
      " 4.243e+00 4.344e+00 4.445e+00 4.546e+00 4.647e+00 4.748e+00 4.849e+00\n",
      " 4.950e+00 5.051e+00 5.152e+00 5.253e+00 5.354e+00 5.455e+00 5.556e+00\n",
      " 5.657e+00 5.758e+00 5.859e+00 5.960e+00 6.061e+00 6.162e+00 6.263e+00\n",
      " 6.364e+00 6.465e+00 6.566e+00 6.667e+00 6.768e+00 6.869e+00 6.970e+00\n",
      " 7.071e+00 7.172e+00 7.273e+00 7.374e+00 7.475e+00 7.576e+00 7.677e+00\n",
      " 7.778e+00 7.879e+00 7.980e+00 8.081e+00 8.182e+00 8.283e+00 8.384e+00\n",
      " 8.485e+00 8.586e+00 8.687e+00 8.788e+00 8.889e+00 8.990e+00 9.091e+00\n",
      " 9.192e+00 9.293e+00 9.394e+00 9.495e+00 9.596e+00 9.697e+00 9.798e+00\n",
      " 9.899e+00 1.000e+01]\n"
     ]
    }
   ],
   "source": [
    "l_min = 0.001\n",
    "l_max = 10\n",
    "l_num = 100\n",
    "lambdas = np.linspace(l_min, l_max, l_num)\n",
    "print(lambdas)\n",
    "\n",
    "train_r_squared = np.zeros(l_num)\n",
    "test_r_squared = np.zeros(l_num)\n",
    "\n",
    "pred_num = X.shape[1]\n",
    "coeff_a = np.zeros((l_num, pred_num))\n",
    "\n",
    "from sklearn.model_selection import cross_val_score\n",
    "\n",
    "for ind, i in enumerate(lambdas):    \n",
    "    reg = Lasso(alpha = i, max_iter = 1e4)\n",
    "    reg.fit(X_train, y_train)\n",
    "    results = cross_val_score(reg, X, y, cv=5, scoring=\"r2\")\n",
    "\n",
    "    train_r_squared[ind] = reg.score(X_train, y_train)    \n",
    "    test_r_squared[ind] = reg.score(X_test, y_test)"
   ]
  },
  {
   "cell_type": "code",
   "execution_count": 207,
   "metadata": {},
   "outputs": [
    {
     "data": {
      "image/png": "[encoded data removed]",
      "text/plain": [
       "<Figure size 1296x576 with 1 Axes>"
      ]
     },
     "metadata": {
      "needs_background": "light"
     },
     "output_type": "display_data"
    }
   ],
   "source": [
    "plt.figure(figsize=(18, 8))\n",
    "plt.plot(train_r_squared, 'bo-', label=r'$R^2$ Training set', color=\"darkblue\", alpha=0.6, linewidth=3)\n",
    "plt.plot(test_r_squared, 'bo-', label=r'$R^2$ Test set', color=\"darkred\", alpha=0.6, linewidth=3)\n",
    "plt.xlabel('Lamda index'); plt.ylabel(r'$R^2$')\n",
    "plt.xlim(0, 50)\n",
    "plt.title(r'Evaluate 5-fold cv with different lamdas')\n",
    "plt.legend(loc='best')\n",
    "plt.grid()"
   ]
  },
  {
   "cell_type": "markdown",
   "metadata": {},
   "source": [
    "### Best Lasso Regression Model for Veterans"
   ]
  },
  {
   "cell_type": "markdown",
   "metadata": {},
   "source": [
    "In this section, the R^2 value, model coefficients, and RMSE of the best fit lasso regression model with the optimal alpha/lamda value will be computed."
   ]
  },
  {
   "cell_type": "code",
   "execution_count": 208,
   "metadata": {},
   "outputs": [
    {
     "data": {
      "text/plain": [
       "R_squared    -0.020809\n",
       "lambda       10.000000\n",
       "Name: 99, dtype: float64"
      ]
     },
     "execution_count": 208,
     "metadata": {},
     "output_type": "execute_result"
    }
   ],
   "source": [
    "df_lam = pd.DataFrame(test_r_squared, columns=['R_squared'])\n",
    "df_lam['lambda'] = (lambdas)\n",
    "# returns the index of the row where column has maximum value.\n",
    "df_lam.loc[df_lam['R_squared'].idxmax()]"
   ]
  },
  {
   "cell_type": "code",
   "execution_count": 209,
   "metadata": {},
   "outputs": [
    {
     "data": {
      "text/plain": [
       "array([-381029.02464325,  -37690.20038327, -108124.05230187,\n",
       "        221625.11057462,  656230.43391225,    5826.90905781,\n",
       "        300314.58329363,  264482.04963866, -276357.18222351,\n",
       "        149653.5619612 ,  -47438.36962025])"
      ]
     },
     "execution_count": 209,
     "metadata": {},
     "output_type": "execute_result"
    }
   ],
   "source": [
    "# Coefficients of best model\n",
    "reg_best = Lasso(alpha = 10, max_iter = 1e4)\n",
    "reg_best.fit(X_train, y_train)\n",
    "reg_best.coef_"
   ]
  },
  {
   "cell_type": "code",
   "execution_count": 210,
   "metadata": {},
   "outputs": [
    {
     "data": {
      "text/plain": [
       "-0.02080886831686768"
      ]
     },
     "execution_count": 210,
     "metadata": {},
     "output_type": "execute_result"
    }
   ],
   "source": [
    "reg_best.score(X_test, y_test)"
   ]
  },
  {
   "cell_type": "code",
   "execution_count": 211,
   "metadata": {},
   "outputs": [
    {
     "data": {
      "text/plain": [
       "880588.0737101311"
      ]
     },
     "execution_count": 211,
     "metadata": {},
     "output_type": "execute_result"
    }
   ],
   "source": [
    "mean_squared_error(y_test, reg_best.predict(X_test), squared = False)"
   ]
  },
  {
   "cell_type": "markdown",
   "metadata": {},
   "source": [
    "### Data Visualizations of Best Lasso Model"
   ]
  },
  {
   "cell_type": "markdown",
   "metadata": {},
   "source": [
    "Lastly, there are two data visualizations below: the first is a scatterplot comparing the predicted `Salary` v.s. the actual `Salary`, and the second is a plot showing the values of the coefficients of each predictor in the lasso regression model which indicates which variables are best at predicting `Salary`. In the first plot, the points should ideally fall close to or on the black dashed line, which represents a one-to-one relationship between the predicted and actual `Salary`. For the second plot, the blue dashed line at the x-axis represents where coefficients equal zero and thus make the predictor variable insignificant."
   ]
  },
  {
   "cell_type": "code",
   "execution_count": 212,
   "metadata": {},
   "outputs": [
    {
     "data": {
      "image/png": "[encoded data removed]",
      "text/plain": [
       "<Figure size 1296x576 with 1 Axes>"
      ]
     },
     "metadata": {
      "needs_background": "light"
     },
     "output_type": "display_data"
    }
   ],
   "source": [
    "# Scatterplot of Predicted v.s. Actual Salary of Rookies\n",
    "\n",
    "y_pred = reg_best.predict(X_test)\n",
    "\n",
    "plt.figure(figsize=(18, 8))\n",
    "plt.plot(y_test, y_pred, \"x\", color = \"orange\")\n",
    "lims = [0, max(np.max(y_test), np.max(y_pred))]\n",
    "plt.xlim(lims)\n",
    "plt.ylim(lims)\n",
    "_ = plt.plot(lims, lims, linestyle = 'dashed', color = 'black')\n",
    "plt.ylabel(\"Test (Actual) Salary\")\n",
    "plt.xlabel(\"Prediction of Salary\")\n",
    "plt.title(\"Prediction v.s. Actual Salary for Rookies\")\n",
    "plt.grid()\n",
    "plt.show()"
   ]
  },
  {
   "cell_type": "code",
   "execution_count": 213,
   "metadata": {},
   "outputs": [
    {
     "data": {
      "image/png": "[encoded data removed]",
      "text/plain": [
       "<Figure size 1296x576 with 1 Axes>"
      ]
     },
     "metadata": {
      "needs_background": "light"
     },
     "output_type": "display_data"
    }
   ],
   "source": [
    "# Plot of Coefficients of Each Variable in the Lasso Regression Model for Rookies\n",
    "\n",
    "plt.figure(figsize=(18, 8))\n",
    "plt.plot(range(len(X.columns)), reg_best.coef_, 'bo-', color = \"teal\")\n",
    "plt.axhline(y = 0, color = 'navy', linestyle='dashed')\n",
    "plt.xticks(range(len(X.columns)), X.columns, rotation = 60)\n",
    "plt.ylabel(\"Lasso Regression Coefficients\")\n",
    "plt.title(\"Coefficients of each Variable in the Lasso Regression Model for Rookies\")\n",
    "plt.grid()\n",
    "plt.show()"
   ]
  },
  {
   "cell_type": "markdown",
   "metadata": {},
   "source": [
    "## Final Results"
   ]
  },
  {
   "cell_type": "markdown",
   "metadata": {},
   "source": [
    "**Overall:** R^2 = 0.47615, RMSE = 1214715.13122\n",
    "\n",
    "**Cluster 0:** R^2 = -0.08045, RMSE = 673051.01480\n",
    "\n",
    "**Cluster 1:** R^2 = 0.50758, RMSE = 1033420.19457\n",
    "\n",
    "**Cluster 2:** R^2 = -0.02083, RMSE = 880597.34830"
   ]
  }
 ],
 "metadata": {
  "colab": {
   "collapsed_sections": [],
   "name": "DSU_NBA_Data_Cleaning.ipynb",
   "provenance": []
  },
  "kernelspec": {
   "display_name": "Python 3",
   "language": "python",
   "name": "python3"
  },
  "language_info": {
   "codemirror_mode": {
    "name": "ipython",
    "version": 3
   },
   "file_extension": ".py",
   "mimetype": "text/x-python",
   "name": "python",
   "nbconvert_exporter": "python",
   "pygments_lexer": "ipython3",
   "version": "3.8.3"
  }
 },
 "nbformat": 4,
 "nbformat_minor": 1
}
